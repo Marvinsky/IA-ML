{
 "cells": [
  {
   "cell_type": "markdown",
   "metadata": {},
   "source": [
    "Mushroom Classification using Unsupervised Learning.\n",
    "\n",
    "We need to create an unsupervised learning algorithm that will learn how to classify mushrooms between poisonous and edible:\n",
    "\n",
    "poisonous:  1\n",
    "edible:     0\n"
   ]
  },
  {
   "cell_type": "markdown",
   "metadata": {},
   "source": [
    "Import modules"
   ]
  },
  {
   "cell_type": "code",
   "execution_count": 13,
   "metadata": {},
   "outputs": [],
   "source": [
    "import pandas as pd\n",
    "import numpy as np\n",
    "import seaborn as sns\n",
    "from sklearn.cluster import KMeans\n",
    "from sklearn.preprocessing import LabelEncoder\n",
    "from sklearn.linear_model import LogisticRegression\n",
    "import matplotlib.pyplot as plt\n",
    "from sklearn.model_selection import train_test_split\n",
    "from sklearn.metrics import accuracy_score"
   ]
  },
  {
   "cell_type": "markdown",
   "metadata": {},
   "source": [
    "Read data"
   ]
  },
  {
   "cell_type": "code",
   "execution_count": 14,
   "metadata": {},
   "outputs": [
    {
     "name": "stdout",
     "output_type": "stream",
     "text": [
      "  class cap-shape cap-surface cap-color bruises odor gill-attachment  \\\n",
      "0     p         x           s         n       t    p               f   \n",
      "1     e         x           s         y       t    a               f   \n",
      "2     e         b           s         w       t    l               f   \n",
      "3     p         x           y         w       t    p               f   \n",
      "4     e         x           s         g       f    n               f   \n",
      "\n",
      "  gill-spacing gill-size gill-color   ...   stalk-surface-below-ring  \\\n",
      "0            c         n          k   ...                          s   \n",
      "1            c         b          k   ...                          s   \n",
      "2            c         b          n   ...                          s   \n",
      "3            c         n          n   ...                          s   \n",
      "4            w         b          k   ...                          s   \n",
      "\n",
      "  stalk-color-above-ring stalk-color-below-ring veil-type veil-color  \\\n",
      "0                      w                      w         p          w   \n",
      "1                      w                      w         p          w   \n",
      "2                      w                      w         p          w   \n",
      "3                      w                      w         p          w   \n",
      "4                      w                      w         p          w   \n",
      "\n",
      "  ring-number ring-type spore-print-color population habitat  \n",
      "0           o         p                 k          s       u  \n",
      "1           o         p                 n          n       g  \n",
      "2           o         p                 n          n       m  \n",
      "3           o         p                 k          s       u  \n",
      "4           o         e                 n          a       g  \n",
      "\n",
      "[5 rows x 23 columns]\n"
     ]
    }
   ],
   "source": [
    "orig = pd.read_csv('mushrooms.csv')\n",
    "print(orig.head())"
   ]
  },
  {
   "cell_type": "markdown",
   "metadata": {},
   "source": [
    "Divide our data into 'predictors,' X and 'labels,' y:"
   ]
  },
  {
   "cell_type": "code",
   "execution_count": 15,
   "metadata": {},
   "outputs": [],
   "source": [
    "#The 'class' column contains our labels.\n",
    "#It tells us whether the mushroom is 'poisonous' or 'edible'.\n",
    "X = orig.drop(['class'], axis=1)\n",
    "y = orig['class']"
   ]
  },
  {
   "cell_type": "markdown",
   "metadata": {},
   "source": [
    "EDA: Exploration Data Analysis"
   ]
  },
  {
   "cell_type": "code",
   "execution_count": 16,
   "metadata": {},
   "outputs": [
    {
     "name": "stdout",
     "output_type": "stream",
     "text": [
      "\n",
      "* cap-shape *\n",
      "x    3656\n",
      "f    3152\n",
      "k     828\n",
      "b     452\n",
      "s      32\n",
      "c       4\n",
      "Name: cap-shape, dtype: int64\n",
      "\n",
      "* cap-surface *\n",
      "y    3244\n",
      "s    2556\n",
      "f    2320\n",
      "g       4\n",
      "Name: cap-surface, dtype: int64\n",
      "\n",
      "* cap-color *\n",
      "n    2284\n",
      "g    1840\n",
      "e    1500\n",
      "y    1072\n",
      "w    1040\n",
      "b     168\n",
      "p     144\n",
      "c      44\n",
      "u      16\n",
      "r      16\n",
      "Name: cap-color, dtype: int64\n",
      "\n",
      "* bruises *\n",
      "f    4748\n",
      "t    3376\n",
      "Name: bruises, dtype: int64\n",
      "\n",
      "* odor *\n",
      "n    3528\n",
      "f    2160\n",
      "y     576\n",
      "s     576\n",
      "l     400\n",
      "a     400\n",
      "p     256\n",
      "c     192\n",
      "m      36\n",
      "Name: odor, dtype: int64\n",
      "\n",
      "* gill-attachment *\n",
      "f    7914\n",
      "a     210\n",
      "Name: gill-attachment, dtype: int64\n",
      "\n",
      "* gill-spacing *\n",
      "c    6812\n",
      "w    1312\n",
      "Name: gill-spacing, dtype: int64\n",
      "\n",
      "* gill-size *\n",
      "b    5612\n",
      "n    2512\n",
      "Name: gill-size, dtype: int64\n",
      "\n",
      "* gill-color *\n",
      "b    1728\n",
      "p    1492\n",
      "w    1202\n",
      "n    1048\n",
      "g     752\n",
      "h     732\n",
      "u     492\n",
      "k     408\n",
      "e      96\n",
      "y      86\n",
      "o      64\n",
      "r      24\n",
      "Name: gill-color, dtype: int64\n",
      "\n",
      "* stalk-shape *\n",
      "t    4608\n",
      "e    3516\n",
      "Name: stalk-shape, dtype: int64\n",
      "\n",
      "* stalk-root *\n",
      "b    3776\n",
      "?    2480\n",
      "e    1120\n",
      "c     556\n",
      "r     192\n",
      "Name: stalk-root, dtype: int64\n",
      "\n",
      "* stalk-surface-above-ring *\n",
      "s    5176\n",
      "k    2372\n",
      "f     552\n",
      "y      24\n",
      "Name: stalk-surface-above-ring, dtype: int64\n",
      "\n",
      "* stalk-surface-below-ring *\n",
      "s    4936\n",
      "k    2304\n",
      "f     600\n",
      "y     284\n",
      "Name: stalk-surface-below-ring, dtype: int64\n",
      "\n",
      "* stalk-color-above-ring *\n",
      "w    4464\n",
      "p    1872\n",
      "g     576\n",
      "n     448\n",
      "b     432\n",
      "o     192\n",
      "e      96\n",
      "c      36\n",
      "y       8\n",
      "Name: stalk-color-above-ring, dtype: int64\n",
      "\n",
      "* stalk-color-below-ring *\n",
      "w    4384\n",
      "p    1872\n",
      "g     576\n",
      "n     512\n",
      "b     432\n",
      "o     192\n",
      "e      96\n",
      "c      36\n",
      "y      24\n",
      "Name: stalk-color-below-ring, dtype: int64\n",
      "\n",
      "* veil-type *\n",
      "p    8124\n",
      "Name: veil-type, dtype: int64\n",
      "\n",
      "* veil-color *\n",
      "w    7924\n",
      "o      96\n",
      "n      96\n",
      "y       8\n",
      "Name: veil-color, dtype: int64\n",
      "\n",
      "* ring-number *\n",
      "o    7488\n",
      "t     600\n",
      "n      36\n",
      "Name: ring-number, dtype: int64\n",
      "\n",
      "* ring-type *\n",
      "p    3968\n",
      "e    2776\n",
      "l    1296\n",
      "f      48\n",
      "n      36\n",
      "Name: ring-type, dtype: int64\n",
      "\n",
      "* spore-print-color *\n",
      "w    2388\n",
      "n    1968\n",
      "k    1872\n",
      "h    1632\n",
      "r      72\n",
      "o      48\n",
      "y      48\n",
      "u      48\n",
      "b      48\n",
      "Name: spore-print-color, dtype: int64\n",
      "\n",
      "* population *\n",
      "v    4040\n",
      "y    1712\n",
      "s    1248\n",
      "n     400\n",
      "a     384\n",
      "c     340\n",
      "Name: population, dtype: int64\n",
      "\n",
      "* habitat *\n",
      "d    3148\n",
      "g    2148\n",
      "p    1144\n",
      "l     832\n",
      "u     368\n",
      "m     292\n",
      "w     192\n",
      "Name: habitat, dtype: int64\n"
     ]
    }
   ],
   "source": [
    "for attr in X.columns:\n",
    "    print(\"\\n*\", attr, \"*\")\n",
    "    print(X[attr].value_counts())"
   ]
  },
  {
   "cell_type": "markdown",
   "metadata": {},
   "source": [
    "All the values in the column: veil-type has the same value \"p\". So, that column does not tell us anything useful."
   ]
  },
  {
   "cell_type": "code",
   "execution_count": 17,
   "metadata": {},
   "outputs": [],
   "source": [
    "X.drop(['veil-type'], axis=1, inplace=True)"
   ]
  },
  {
   "cell_type": "code",
   "execution_count": 12,
   "metadata": {},
   "outputs": [
    {
     "name": "stdout",
     "output_type": "stream",
     "text": [
      "     cap-shape cap-surface cap-color bruises odor gill-attachment  \\\n",
      "0            x           s         n       t    p               f   \n",
      "1            x           s         y       t    a               f   \n",
      "2            b           s         w       t    l               f   \n",
      "3            x           y         w       t    p               f   \n",
      "4            x           s         g       f    n               f   \n",
      "5            x           y         y       t    a               f   \n",
      "6            b           s         w       t    a               f   \n",
      "7            b           y         w       t    l               f   \n",
      "8            x           y         w       t    p               f   \n",
      "9            b           s         y       t    a               f   \n",
      "10           x           y         y       t    l               f   \n",
      "11           x           y         y       t    a               f   \n",
      "12           b           s         y       t    a               f   \n",
      "13           x           y         w       t    p               f   \n",
      "14           x           f         n       f    n               f   \n",
      "15           s           f         g       f    n               f   \n",
      "16           f           f         w       f    n               f   \n",
      "17           x           s         n       t    p               f   \n",
      "18           x           y         w       t    p               f   \n",
      "19           x           s         n       t    p               f   \n",
      "20           b           s         y       t    a               f   \n",
      "21           x           y         n       t    p               f   \n",
      "22           b           y         y       t    l               f   \n",
      "23           b           y         w       t    a               f   \n",
      "24           b           s         w       t    l               f   \n",
      "25           f           s         w       t    p               f   \n",
      "26           x           y         y       t    a               f   \n",
      "27           x           y         w       t    l               f   \n",
      "28           f           f         n       f    n               f   \n",
      "29           x           s         y       t    a               f   \n",
      "...        ...         ...       ...     ...  ...             ...   \n",
      "8094         b           s         g       f    n               f   \n",
      "8095         x           y         c       f    m               f   \n",
      "8096         k           f         w       f    n               f   \n",
      "8097         k           y         n       f    s               f   \n",
      "8098         k           s         e       f    y               f   \n",
      "8099         k           f         w       f    n               f   \n",
      "8100         f           s         n       f    n               a   \n",
      "8101         k           s         e       f    s               f   \n",
      "8102         x           s         n       f    n               a   \n",
      "8103         k           s         n       f    n               a   \n",
      "8104         k           s         n       f    n               a   \n",
      "8105         k           s         n       f    n               a   \n",
      "8106         k           s         n       f    n               a   \n",
      "8107         x           s         n       f    n               a   \n",
      "8108         k           y         e       f    y               f   \n",
      "8109         b           s         w       f    n               f   \n",
      "8110         x           s         n       f    n               a   \n",
      "8111         k           s         w       f    n               f   \n",
      "8112         k           s         n       f    n               a   \n",
      "8113         k           y         e       f    y               f   \n",
      "8114         f           y         c       f    m               a   \n",
      "8115         x           s         n       f    n               a   \n",
      "8116         k           y         n       f    s               f   \n",
      "8117         k           s         e       f    y               f   \n",
      "8118         k           y         n       f    f               f   \n",
      "8119         k           s         n       f    n               a   \n",
      "8120         x           s         n       f    n               a   \n",
      "8121         f           s         n       f    n               a   \n",
      "8122         k           y         n       f    y               f   \n",
      "8123         x           s         n       f    n               a   \n",
      "\n",
      "     gill-spacing gill-size gill-color stalk-shape   ...    \\\n",
      "0               c         n          k           e   ...     \n",
      "1               c         b          k           e   ...     \n",
      "2               c         b          n           e   ...     \n",
      "3               c         n          n           e   ...     \n",
      "4               w         b          k           t   ...     \n",
      "5               c         b          n           e   ...     \n",
      "6               c         b          g           e   ...     \n",
      "7               c         b          n           e   ...     \n",
      "8               c         n          p           e   ...     \n",
      "9               c         b          g           e   ...     \n",
      "10              c         b          g           e   ...     \n",
      "11              c         b          n           e   ...     \n",
      "12              c         b          w           e   ...     \n",
      "13              c         n          k           e   ...     \n",
      "14              w         b          n           t   ...     \n",
      "15              c         n          k           e   ...     \n",
      "16              w         b          k           t   ...     \n",
      "17              c         n          n           e   ...     \n",
      "18              c         n          n           e   ...     \n",
      "19              c         n          k           e   ...     \n",
      "20              c         b          k           e   ...     \n",
      "21              c         n          n           e   ...     \n",
      "22              c         b          k           e   ...     \n",
      "23              c         b          w           e   ...     \n",
      "24              c         b          g           e   ...     \n",
      "25              c         n          n           e   ...     \n",
      "26              c         b          n           e   ...     \n",
      "27              c         b          w           e   ...     \n",
      "28              c         n          k           e   ...     \n",
      "29              w         n          n           t   ...     \n",
      "...           ...       ...        ...         ...   ...     \n",
      "8094            w         b          g           e   ...     \n",
      "8095            c         b          y           e   ...     \n",
      "8096            w         b          w           e   ...     \n",
      "8097            c         n          b           t   ...     \n",
      "8098            c         n          b           t   ...     \n",
      "8099            w         b          w           e   ...     \n",
      "8100            c         b          o           e   ...     \n",
      "8101            c         n          b           t   ...     \n",
      "8102            c         b          y           e   ...     \n",
      "8103            c         b          y           e   ...     \n",
      "8104            c         b          y           e   ...     \n",
      "8105            c         b          y           e   ...     \n",
      "8106            c         b          o           e   ...     \n",
      "8107            c         b          y           e   ...     \n",
      "8108            c         n          b           t   ...     \n",
      "8109            w         b          w           e   ...     \n",
      "8110            c         b          o           e   ...     \n",
      "8111            w         b          p           e   ...     \n",
      "8112            c         b          o           e   ...     \n",
      "8113            c         n          b           t   ...     \n",
      "8114            c         b          y           e   ...     \n",
      "8115            c         b          y           e   ...     \n",
      "8116            c         n          b           t   ...     \n",
      "8117            c         n          b           t   ...     \n",
      "8118            c         n          b           t   ...     \n",
      "8119            c         b          y           e   ...     \n",
      "8120            c         b          y           e   ...     \n",
      "8121            c         b          n           e   ...     \n",
      "8122            c         n          b           t   ...     \n",
      "8123            c         b          y           e   ...     \n",
      "\n",
      "     stalk-surface-above-ring stalk-surface-below-ring stalk-color-above-ring  \\\n",
      "0                           s                        s                      w   \n",
      "1                           s                        s                      w   \n",
      "2                           s                        s                      w   \n",
      "3                           s                        s                      w   \n",
      "4                           s                        s                      w   \n",
      "5                           s                        s                      w   \n",
      "6                           s                        s                      w   \n",
      "7                           s                        s                      w   \n",
      "8                           s                        s                      w   \n",
      "9                           s                        s                      w   \n",
      "10                          s                        s                      w   \n",
      "11                          s                        s                      w   \n",
      "12                          s                        s                      w   \n",
      "13                          s                        s                      w   \n",
      "14                          s                        f                      w   \n",
      "15                          s                        s                      w   \n",
      "16                          s                        s                      w   \n",
      "17                          s                        s                      w   \n",
      "18                          s                        s                      w   \n",
      "19                          s                        s                      w   \n",
      "20                          s                        s                      w   \n",
      "21                          s                        s                      w   \n",
      "22                          s                        s                      w   \n",
      "23                          s                        s                      w   \n",
      "24                          s                        s                      w   \n",
      "25                          s                        s                      w   \n",
      "26                          s                        s                      w   \n",
      "27                          s                        s                      w   \n",
      "28                          s                        s                      w   \n",
      "29                          s                        s                      w   \n",
      "...                       ...                      ...                    ...   \n",
      "8094                        k                        s                      w   \n",
      "8095                        k                        y                      c   \n",
      "8096                        k                        s                      w   \n",
      "8097                        k                        k                      p   \n",
      "8098                        k                        k                      w   \n",
      "8099                        k                        k                      w   \n",
      "8100                        s                        s                      o   \n",
      "8101                        s                        s                      p   \n",
      "8102                        s                        s                      o   \n",
      "8103                        s                        s                      o   \n",
      "8104                        s                        s                      o   \n",
      "8105                        s                        s                      o   \n",
      "8106                        s                        s                      o   \n",
      "8107                        s                        s                      o   \n",
      "8108                        k                        s                      p   \n",
      "8109                        s                        s                      w   \n",
      "8110                        s                        s                      o   \n",
      "8111                        s                        s                      w   \n",
      "8112                        s                        s                      o   \n",
      "8113                        k                        k                      p   \n",
      "8114                        k                        y                      c   \n",
      "8115                        s                        s                      o   \n",
      "8116                        s                        k                      p   \n",
      "8117                        k                        s                      p   \n",
      "8118                        k                        s                      p   \n",
      "8119                        s                        s                      o   \n",
      "8120                        s                        s                      o   \n",
      "8121                        s                        s                      o   \n",
      "8122                        s                        k                      w   \n",
      "8123                        s                        s                      o   \n",
      "\n",
      "     stalk-color-below-ring veil-color ring-number ring-type  \\\n",
      "0                         w          w           o         p   \n",
      "1                         w          w           o         p   \n",
      "2                         w          w           o         p   \n",
      "3                         w          w           o         p   \n",
      "4                         w          w           o         e   \n",
      "5                         w          w           o         p   \n",
      "6                         w          w           o         p   \n",
      "7                         w          w           o         p   \n",
      "8                         w          w           o         p   \n",
      "9                         w          w           o         p   \n",
      "10                        w          w           o         p   \n",
      "11                        w          w           o         p   \n",
      "12                        w          w           o         p   \n",
      "13                        w          w           o         p   \n",
      "14                        w          w           o         e   \n",
      "15                        w          w           o         p   \n",
      "16                        w          w           o         e   \n",
      "17                        w          w           o         p   \n",
      "18                        w          w           o         p   \n",
      "19                        w          w           o         p   \n",
      "20                        w          w           o         p   \n",
      "21                        w          w           o         p   \n",
      "22                        w          w           o         p   \n",
      "23                        w          w           o         p   \n",
      "24                        w          w           o         p   \n",
      "25                        w          w           o         p   \n",
      "26                        w          w           o         p   \n",
      "27                        w          w           o         p   \n",
      "28                        w          w           o         p   \n",
      "29                        w          w           o         p   \n",
      "...                     ...        ...         ...       ...   \n",
      "8094                      w          w           t         p   \n",
      "8095                      c          w           n         n   \n",
      "8096                      w          w           t         p   \n",
      "8097                      p          w           o         e   \n",
      "8098                      p          w           o         e   \n",
      "8099                      w          w           t         p   \n",
      "8100                      o          n           o         p   \n",
      "8101                      w          w           o         e   \n",
      "8102                      o          n           o         p   \n",
      "8103                      o          n           o         p   \n",
      "8104                      o          o           o         p   \n",
      "8105                      o          n           o         p   \n",
      "8106                      o          o           o         p   \n",
      "8107                      o          o           o         p   \n",
      "8108                      w          w           o         e   \n",
      "8109                      w          w           t         p   \n",
      "8110                      o          o           o         p   \n",
      "8111                      w          w           t         p   \n",
      "8112                      o          n           o         p   \n",
      "8113                      p          w           o         e   \n",
      "8114                      c          w           n         n   \n",
      "8115                      o          o           o         p   \n",
      "8116                      w          w           o         e   \n",
      "8117                      w          w           o         e   \n",
      "8118                      w          w           o         e   \n",
      "8119                      o          o           o         p   \n",
      "8120                      o          n           o         p   \n",
      "8121                      o          o           o         p   \n",
      "8122                      w          w           o         e   \n",
      "8123                      o          o           o         p   \n",
      "\n",
      "     spore-print-color population habitat  \n",
      "0                    k          s       u  \n",
      "1                    n          n       g  \n",
      "2                    n          n       m  \n",
      "3                    k          s       u  \n",
      "4                    n          a       g  \n",
      "5                    k          n       g  \n",
      "6                    k          n       m  \n",
      "7                    n          s       m  \n",
      "8                    k          v       g  \n",
      "9                    k          s       m  \n",
      "10                   n          n       g  \n",
      "11                   k          s       m  \n",
      "12                   n          s       g  \n",
      "13                   n          v       u  \n",
      "14                   k          a       g  \n",
      "15                   n          y       u  \n",
      "16                   n          a       g  \n",
      "17                   k          s       g  \n",
      "18                   n          s       u  \n",
      "19                   n          s       u  \n",
      "20                   n          s       m  \n",
      "21                   n          v       g  \n",
      "22                   n          s       m  \n",
      "23                   n          n       m  \n",
      "24                   k          s       m  \n",
      "25                   n          v       g  \n",
      "26                   n          n       m  \n",
      "27                   n          n       m  \n",
      "28                   k          y       u  \n",
      "29                   n          v       d  \n",
      "...                ...        ...     ...  \n",
      "8094                 w          n       g  \n",
      "8095                 w          c       d  \n",
      "8096                 w          n       g  \n",
      "8097                 w          v       l  \n",
      "8098                 w          v       d  \n",
      "8099                 w          s       g  \n",
      "8100                 b          v       l  \n",
      "8101                 w          v       p  \n",
      "8102                 n          c       l  \n",
      "8103                 o          c       l  \n",
      "8104                 n          v       l  \n",
      "8105                 y          v       l  \n",
      "8106                 n          v       l  \n",
      "8107                 n          c       l  \n",
      "8108                 w          v       l  \n",
      "8109                 w          n       g  \n",
      "8110                 n          v       l  \n",
      "8111                 w          n       g  \n",
      "8112                 b          v       l  \n",
      "8113                 w          v       d  \n",
      "8114                 w          c       d  \n",
      "8115                 o          v       l  \n",
      "8116                 w          v       l  \n",
      "8117                 w          v       d  \n",
      "8118                 w          v       d  \n",
      "8119                 b          c       l  \n",
      "8120                 b          v       l  \n",
      "8121                 b          c       l  \n",
      "8122                 w          v       l  \n",
      "8123                 o          c       l  \n",
      "\n",
      "[8124 rows x 21 columns]\n"
     ]
    }
   ],
   "source": [
    "print(X)"
   ]
  },
  {
   "cell_type": "markdown",
   "metadata": {},
   "source": [
    "Second, the stalk-root variable has a '?' value for it's missing values. Rather than impute this missing value, I will divide the dataset into two sections: (1) where X['stalk-root']==? and (2) where X['stalk-root']!=?. Then, I will analyze the distribution of each variable within those two data sets to determine if they are similar.\n",
    "\n",
    "I'm no mushroom expert, so I would expect that if the distributions vary greatly for each variable, then the fact that the stalk-root's are missing for some of the mushrooms -- and not missing for the others --may turn out to be useful/relevant information."
   ]
  },
  {
   "cell_type": "code",
   "execution_count": 18,
   "metadata": {},
   "outputs": [
    {
     "name": "stdout",
     "output_type": "stream",
     "text": [
      "a = {'f', 'k', 'b', 'x'}\n",
      "b = {'c', 'k', 's', 'x', 'f', 'b'}\n",
      "c = {'c', 'k', 's', 'x', 'f', 'b'}\n",
      "a = {'y', 'f', 's'}\n",
      "b = {'y', 'f', 'g', 's'}\n",
      "c = {'g', 's', 'y', 'f'}\n",
      "a = {'u', 'p', 'e', 'g', 'r', 'w', 'n', 'y', 'b'}\n",
      "b = {'e', 'p', 'c', 'g', 'w', 'n', 'y', 'b'}\n",
      "c = {'u', 'p', 'e', 'c', 'g', 'r', 'w', 'n', 'y', 'b'}\n",
      "a = {'t', 'f'}\n",
      "b = {'t', 'f'}\n",
      "c = {'t', 'f'}\n",
      "a = {'y', 'f', 's', 'n'}\n",
      "b = {'p', 'l', 'a', 'c', 'm', 'n', 'f'}\n",
      "c = {'p', 'l', 'a', 'c', 'm', 's', 'n', 'y', 'f'}\n",
      "a = {'f', 'a'}\n",
      "b = {'f', 'a'}\n",
      "c = {'f', 'a'}\n",
      "a = {'c', 'w'}\n",
      "b = {'c', 'w'}\n",
      "c = {'c', 'w'}\n",
      "a = {'b', 'n'}\n",
      "b = {'b', 'n'}\n",
      "c = {'b', 'n'}\n",
      "a = {'u', 'p', 'e', 'o', 'g', 'w', 'n', 'y', 'h', 'b'}\n",
      "b = {'u', 'p', 'k', 'g', 'r', 'w', 'n', 'y', 'h'}\n",
      "c = {'u', 'p', 'k', 'y', 'h', 'b', 'e', 'o', 'g', 'r', 'w', 'n'}\n",
      "a = {'t', 'e'}\n",
      "b = {'t', 'e'}\n",
      "c = {'t', 'e'}\n",
      "a = {'?'}\n",
      "b = {'r', 'e', 'c', 'b'}\n",
      "c = {'r', '?', 'e', 'c', 'b'}\n",
      "a = {'k', 's'}\n",
      "b = {'y', 'f', 'k', 's'}\n",
      "c = {'k', 's', 'y', 'f'}\n",
      "a = {'y', 'f', 'k', 's'}\n",
      "b = {'y', 'f', 'k', 's'}\n",
      "c = {'k', 's', 'y', 'f'}\n",
      "a = {'o', 'p', 'e', 'w'}\n",
      "b = {'p', 'c', 'g', 'w', 'n', 'y', 'b'}\n",
      "c = {'p', 'e', 'c', 'o', 'g', 'w', 'n', 'y', 'b'}\n",
      "a = {'e', 'p', 'o', 'w', 'n', 'y'}\n",
      "b = {'p', 'c', 'g', 'w', 'n', 'y', 'b'}\n",
      "c = {'e', 'p', 'c', 'o', 'g', 'w', 'n', 'y', 'b'}\n",
      "a = {'o', 'w', 'n'}\n",
      "b = {'y', 'w'}\n",
      "c = {'o', 'w', 'n', 'y'}\n",
      "a = {'o', 't'}\n",
      "b = {'o', 't', 'n'}\n",
      "c = {'o', 'n', 't'}\n",
      "a = {'f', 'p', 'e'}\n",
      "b = {'n', 'e', 'p', 'l'}\n",
      "c = {'p', 'e', 'l', 'n', 'f'}\n",
      "a = {'o', 'w', 'n', 'y', 'h', 'b'}\n",
      "b = {'u', 'k', 'r', 'w', 'n', 'h'}\n",
      "c = {'u', 'o', 'k', 'r', 'w', 'n', 'y', 'h', 'b'}\n",
      "a = {'c', 'y', 's', 'n', 'v'}\n",
      "b = {'a', 'y', 'c', 's', 'n', 'v'}\n",
      "c = {'a', 'y', 'c', 's', 'n', 'v'}\n",
      "a = {'d', 'p', 'l', 'g', 'w'}\n",
      "b = {'u', 'd', 'p', 'l', 'm', 'g'}\n",
      "c = {'u', 'd', 'p', 'l', 'm', 'g', 'w'}\n"
     ]
    },
    {
     "name": "stderr",
     "output_type": "stream",
     "text": [
      "/anaconda3/lib/python3.7/site-packages/matplotlib/pyplot.py:514: RuntimeWarning: More than 20 figures have been opened. Figures created through the pyplot interface (`matplotlib.pyplot.figure`) are retained until explicitly closed and may consume too much memory. (To control this warning, see the rcParam `figure.max_open_warning`).\n",
      "  max_open_warning, RuntimeWarning)\n"
     ]
    },
    {
     "data": {
      "image/png": "[encoded data removed]",
      "text/plain": [
       "<Figure size 432x288 with 2 Axes>"
      ]
     },
     "metadata": {
      "needs_background": "light"
     },
     "output_type": "display_data"
    },
    {
     "data": {
      "image/png": "[encoded data removed]",
      "text/plain": [
       "<Figure size 432x288 with 2 Axes>"
      ]
     },
     "metadata": {
      "needs_background": "light"
     },
     "output_type": "display_data"
    },
    {
     "data": {
      "image/png": "[encoded data removed]",
      "text/plain": [
       "<Figure size 432x288 with 2 Axes>"
      ]
     },
     "metadata": {
      "needs_background": "light"
     },
     "output_type": "display_data"
    },
    {
     "data": {
      "image/png": "[encoded data removed]",
      "text/plain": [
       "<Figure size 432x288 with 2 Axes>"
      ]
     },
     "metadata": {
      "needs_background": "light"
     },
     "output_type": "display_data"
    },
    {
     "data": {
      "image/png": "[encoded data removed]",
      "text/plain": [
       "<Figure size 432x288 with 2 Axes>"
      ]
     },
     "metadata": {
      "needs_background": "light"
     },
     "output_type": "display_data"
    },
    {
     "data": {
      "image/png": "[encoded data removed]",
      "text/plain": [
       "<Figure size 432x288 with 2 Axes>"
      ]
     },
     "metadata": {
      "needs_background": "light"
     },
     "output_type": "display_data"
    },
    {
     "data": {
      "image/png": "[encoded data removed]",
      "text/plain": [
       "<Figure size 432x288 with 2 Axes>"
      ]
     },
     "metadata": {
      "needs_background": "light"
     },
     "output_type": "display_data"
    },
    {
     "data": {
      "image/png": "[encoded data removed]",
      "text/plain": [
       "<Figure size 432x288 with 2 Axes>"
      ]
     },
     "metadata": {
      "needs_background": "light"
     },
     "output_type": "display_data"
    },
    {
     "data": {
      "image/png": "[encoded data removed]",
      "text/plain": [
       "<Figure size 432x288 with 2 Axes>"
      ]
     },
     "metadata": {
      "needs_background": "light"
     },
     "output_type": "display_data"
    },
    {
     "data": {
      "image/png": "[encoded data removed]",
      "text/plain": [
       "<Figure size 432x288 with 2 Axes>"
      ]
     },
     "metadata": {
      "needs_background": "light"
     },
     "output_type": "display_data"
    },
    {
     "data": {
      "image/png": "[encoded data removed]",
      "text/plain": [
       "<Figure size 432x288 with 2 Axes>"
      ]
     },
     "metadata": {
      "needs_background": "light"
     },
     "output_type": "display_data"
    },
    {
     "data": {
      "image/png": "[encoded data removed]",
      "text/plain": [
       "<Figure size 432x288 with 2 Axes>"
      ]
     },
     "metadata": {
      "needs_background": "light"
     },
     "output_type": "display_data"
    },
    {
     "data": {
      "image/png": "[encoded data removed]",
      "text/plain": [
       "<Figure size 432x288 with 2 Axes>"
      ]
     },
     "metadata": {
      "needs_background": "light"
     },
     "output_type": "display_data"
    },
    {
     "data": {
      "image/png": "[encoded data removed]",
      "text/plain": [
       "<Figure size 432x288 with 2 Axes>"
      ]
     },
     "metadata": {
      "needs_background": "light"
     },
     "output_type": "display_data"
    },
    {
     "data": {
      "image/png": "[encoded data removed]",
      "text/plain": [
       "<Figure size 432x288 with 2 Axes>"
      ]
     },
     "metadata": {
      "needs_background": "light"
     },
     "output_type": "display_data"
    },
    {
     "data": {
      "image/png": "[encoded data removed]",
      "text/plain": [
       "<Figure size 432x288 with 2 Axes>"
      ]
     },
     "metadata": {
      "needs_background": "light"
     },
     "output_type": "display_data"
    },
    {
     "data": {
      "image/png": "[encoded data removed]",
      "text/plain": [
       "<Figure size 432x288 with 2 Axes>"
      ]
     },
     "metadata": {
      "needs_background": "light"
     },
     "output_type": "display_data"
    },
    {
     "data": {
      "image/png": "[encoded data removed]",
      "text/plain": [
       "<Figure size 432x288 with 2 Axes>"
      ]
     },
     "metadata": {
      "needs_background": "light"
     },
     "output_type": "display_data"
    },
    {
     "data": {
      "image/png": "[encoded data removed]",
      "text/plain": [
       "<Figure size 432x288 with 2 Axes>"
      ]
     },
     "metadata": {
      "needs_background": "light"
     },
     "output_type": "display_data"
    },
    {
     "data": {
      "image/png": "[encoded data removed]",
      "text/plain": [
       "<Figure size 432x288 with 2 Axes>"
      ]
     },
     "metadata": {
      "needs_background": "light"
     },
     "output_type": "display_data"
    },
    {
     "data": {
      "image/png": "[encoded data removed]",
      "text/plain": [
       "<Figure size 432x288 with 2 Axes>"
      ]
     },
     "metadata": {
      "needs_background": "light"
     },
     "output_type": "display_data"
    }
   ],
   "source": [
    "for attr in X.columns:\n",
    "    #Format subplots\n",
    "    fig, ax = plt.subplots(1,2)\n",
    "    plt.subplots_adjust(right=2)\n",
    "    \n",
    "    #Construct values to count in each column\n",
    "    a=set(X[X['stalk-root']=='?'][attr])\n",
    "    b=set(X[X['stalk-root']!='?'][attr])\n",
    "    print(\"a = {}\".format(a))\n",
    "    print(\"b = {}\".format(b))\n",
    "    c = a.union(b)\n",
    "    print(\"c = {}\".format(c))\n",
    "    c = np.sort(np.array(list(c)))"
   ]
  },
  {
   "cell_type": "code",
   "execution_count": null,
   "metadata": {},
   "outputs": [],
   "source": []
  }
 ],
 "metadata": {
  "kernelspec": {
   "display_name": "Python 3",
   "language": "python",
   "name": "python3"
  },
  "language_info": {
   "codemirror_mode": {
    "name": "ipython",
    "version": 3
   },
   "file_extension": ".py",
   "mimetype": "text/x-python",
   "name": "python",
   "nbconvert_exporter": "python",
   "pygments_lexer": "ipython3",
   "version": "3.7.1"
  },
  "widgets": {
   "application/vnd.jupyter.widget-state+json": {
    "state": {},
    "version_major": 2,
    "version_minor": 0
   }
  }
 },
 "nbformat": 4,
 "nbformat_minor": 2
}
