{
 "cells": [
  {
   "cell_type": "markdown",
   "metadata": {},
   "source": [
    "Clustering algorithms are mostly straightforward: Points are assigned to centroids, and centroids are updated --- repeat until convergence.\n",
    "\n",
    "Much of the difficulty in using clustering involves picking how many centroids to create and how to initialize those centroids. "
   ]
  },
  {
   "cell_type": "markdown",
   "metadata": {},
   "source": [
    "Determine which cluster centroid is closest to each point.\n",
    "\n",
    "RETURN a 2-d numpy array where each row indicates which cluster a point is closets to, and thus also assigned to:\n",
    "\n",
    "e.g. [0,1,0,...,0] indicates the point is assigned to the second cluster, and\n",
    "[0,0,...,1] indicates the point is assigned to the last cluster"
   ]
  },
  {
   "cell_type": "code",
   "execution_count": 1,
   "metadata": {},
   "outputs": [],
   "source": [
    "from scipy.stats import multivariate_normal\n",
    "import scipy.stats as stats\n",
    "import matplotlib.pyplot as plt\n",
    "import numpy as np\n",
    "import pandas as pd\n",
    "%matplotlib inline"
   ]
  },
  {
   "cell_type": "code",
   "execution_count": 2,
   "metadata": {},
   "outputs": [
    {
     "name": "stdout",
     "output_type": "stream",
     "text": [
      "[[1 0]\n",
      " [1 0]\n",
      " [0 1]\n",
      " [0 1]\n",
      " [0 1]]\n"
     ]
    }
   ],
   "source": [
    "### Assign points to clusters according to the k-means algorithm\n",
    "### Follow directions above\n",
    "\n",
    "def assign_clusters_k_means(points, clusters):\n",
    "    \"\"\"\n",
    "    Determine the nearest cluster to each point, returning an array indicating the closest cluster\n",
    "    \n",
    "    Positional Arguments:\n",
    "        points: a 2-d numpy array where each row is a different point, and each\n",
    "            column indicates the location of that point in that dimension\n",
    "        clusters: a 2-d numpy array where each row is a different centroid cluster;\n",
    "            each column indicates the location of that centroid in that dimension\n",
    "    \n",
    "    Example:\n",
    "        points = np.array([[0,1], [2,2], [5,4], [3,6], [4,2]])\n",
    "        clusters = np.array([[0,1],[5,4]])\n",
    "        cluster_weights = assign_clusters_k_means(points, clusters)\n",
    "        \n",
    "        print(cluster_weights) #--> np.array([[1, 0],\n",
    "                                              [1, 0],\n",
    "                                              [0, 1],\n",
    "                                              [0, 1],\n",
    "                                              [0, 1]])\n",
    "    \"\"\"\n",
    "    # NB: \"cluster_weights\" is used as a common term between functions\n",
    "    # the name makes more sense in soft-clustering contexts\n",
    "    \n",
    "    #Find distances between each point and each cluster (euclides distance)\n",
    "    dist_to_clust = np.concatenate(\n",
    "        [np.apply_along_axis(np.linalg.norm, 1, points - c).reshape((-1,1)) for c in clusters],\n",
    "        axis = 1)\n",
    "    \n",
    "    #Function to convert minimum distance to 1 and other to 0\n",
    "    def find_min(x):\n",
    "        m = np.min(x)\n",
    "        flag = [1 if n == m else 0 for n in x]\n",
    "        return flag\n",
    "    \n",
    "    #Apply function\n",
    "    cluster_assignments = np.apply_along_axis(find_min, 1, dist_to_clust)\n",
    "    \n",
    "    return cluster_assignments\n",
    "    \n",
    "\n",
    "points = np.array([[0,1], [2,2], [5,4], [3,6], [4,2]])\n",
    "clusters = np.array([[0,1],[5,4]])\n",
    "cluster_weights = assign_clusters_k_means(points, clusters)\n",
    "print(cluster_weights) #--> np.array([[1, 0],[1, 0],[0, 1],[0, 1],[0, 1]])"
   ]
  },
  {
   "cell_type": "code",
   "execution_count": null,
   "metadata": {},
   "outputs": [],
   "source": []
  }
 ],
 "metadata": {
  "kernelspec": {
   "display_name": "Python 3",
   "language": "python",
   "name": "python3"
  },
  "language_info": {
   "codemirror_mode": {
    "name": "ipython",
    "version": 3
   },
   "file_extension": ".py",
   "mimetype": "text/x-python",
   "name": "python",
   "nbconvert_exporter": "python",
   "pygments_lexer": "ipython3",
   "version": "3.7.1"
  }
 },
 "nbformat": 4,
 "nbformat_minor": 2
}
