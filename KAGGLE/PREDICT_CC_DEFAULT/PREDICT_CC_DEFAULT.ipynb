{
 "cells": [
  {
   "cell_type": "markdown",
   "metadata": {},
   "source": [
    "## Predicting Credit Card Default\n",
    "\n",
    "### Data Set Information\n",
    "\n",
    "#### This research aimed at the case of customers default payments in Taiwan\n",
    "\n",
    "### Features Description:\n",
    "\n",
    ". LIMIT_BAL: Amount of the given credit (NT dollar): it includes both the individual consumer credit and his/her family (supplementary) credit.\n",
    ". SEX: Gender (1 = male; 2 = female)\n",
    "\n",
    ". EDUCATION: Education(1 = graduate school; 2 = university; 3 = high school; 4 = other)\n",
    "\n",
    ". MARRIAGE: Maritial status (1 = married; 2 = single; 3 = other)\n",
    "\n",
    ". AGE: Age (year)\n",
    "\n",
    ". PAY_0 - PAY_6: History of past payment. We tracked the past monthly payment records (from April to September, 2005) as follows: 0 = the replayment status in September, 2005; 1 = the repayment status in August, 2005;...;6 = the repayment status in April, 2005. The measurement scale for the repayment status is: -1 = pay duly; 1 = payment delay for one month; 2 = payment delay for two months;...;8 = payment delay for eight months;9 = payment delay for nine months and above.\n",
    "\n",
    ". BILL_AMT1-BILL_AMT6: Amount of bill statement(NT dollar).X12 = Amount of bill statement in September, 2005; X13 = Amount of bill statement in Augusst, 2005;...;X17 = Amount of bill statement in April, 2005.\n",
    "\n",
    ". PAY_AMT1-PAY_AMT6: Amount of previous payment (NT dollar)\n",
    "\n",
    ". default payment next month: positive class: default|negative class: pay\n",
    "\n",
    "\n",
    "\n",
    "\n",
    "\n"
   ]
  },
  {
   "cell_type": "code",
   "execution_count": 22,
   "metadata": {},
   "outputs": [],
   "source": [
    "# Importing useful libraries\n",
    "import numpy as np\n",
    "import matplotlib.pyplot as plt\n",
    "import pandas as pd\n",
    "%matplotlib inline"
   ]
  },
  {
   "cell_type": "markdown",
   "metadata": {},
   "source": [
    "### 0. Data Preparation"
   ]
  },
  {
   "cell_type": "code",
   "execution_count": 23,
   "metadata": {},
   "outputs": [],
   "source": [
    "default = pd.read_excel(\"default of credit card clients.xls\", header = 1)\n",
    "default.rename(columns=lambda x: x.lower(), inplace=True)\n",
    "# Base values: female, other_education, not_married\n",
    "default[\"grad_school\"] = (default[\"education\"] == 1).astype(\"int\")\n",
    "default[\"university\"] = (default[\"education\"] == 2).astype(\"int\")\n",
    "default[\"high_school\"] = (default[\"education\"] == 3).astype(\"int\")\n",
    "default.drop(\"education\", axis=1, inplace=True)\n",
    "\n",
    "default[\"male\"] = (default[\"sex\"] == 1).astype(\"int\")\n",
    "default.drop(\"sex\", axis=1, inplace=True)\n",
    "\n",
    "default[\"married\"] = (default[\"marriage\"] == 1).astype(\"int\")\n",
    "default.drop(\"marriage\", axis=1, inplace=True)\n",
    "\n",
    "# For pay features if the <= 0 then it means it was not delayed\n",
    "pay_features = [\"pay_0\", \"pay_2\", \"pay_3\", \"pay_4\", \"pay_5\", \"pay_6\"]\n",
    "for p in pay_features:\n",
    "    default.loc[default[p]<=0, p] = 0\n",
    "    \n",
    "default.rename(columns={\"default payment next month\": \"default\"}, inplace=True)\n"
   ]
  },
  {
   "cell_type": "markdown",
   "metadata": {},
   "source": [
    "### Building models using all features"
   ]
  },
  {
   "cell_type": "code",
   "execution_count": 24,
   "metadata": {},
   "outputs": [],
   "source": [
    "from sklearn.model_selection import train_test_split\n",
    "from sklearn.metrics import accuracy_score, precision_score, recall_score, confusion_matrix, precision_recall_curve\n",
    "from sklearn.preprocessing import RobustScaler"
   ]
  },
  {
   "cell_type": "code",
   "execution_count": 25,
   "metadata": {},
   "outputs": [
    {
     "name": "stdout",
     "output_type": "stream",
     "text": [
      "X.shape = (30000, 26)\n",
      "transform X.shape = (30000, 26)\n"
     ]
    }
   ],
   "source": [
    "target_name = \"default\"\n",
    "X = default.drop(\"default\", axis=1)\n",
    "robust_scaler = RobustScaler()\n",
    "print(\"X.shape = {}\".format(X.shape))\n",
    "X = robust_scaler.fit_transform(X)\n",
    "print(\"transform X.shape = {}\".format(X.shape))\n",
    "y = default[target_name]\n",
    "X_train, X_test, y_train, y_test = train_test_split(X, y, test_size = 0.15, random_state=123, stratify=y)"
   ]
  },
  {
   "cell_type": "code",
   "execution_count": 26,
   "metadata": {},
   "outputs": [],
   "source": [
    "def CMatrix(CM, labels=[\"pay\", \"default\"]):\n",
    "    df = pd.DataFrame(data=CM, index=labels, columns=labels)\n",
    "    df.index.name = \"True\"\n",
    "    df.columns.name = \"PREDICTION\"\n",
    "    df.loc[\"Total\"] = df.sum()\n",
    "    df[\"Total\"] = df.sum(axis=1)\n",
    "    return df"
   ]
  },
  {
   "cell_type": "markdown",
   "metadata": {},
   "source": [
    "### Preparing a DataFrame for model analysis"
   ]
  },
  {
   "cell_type": "code",
   "execution_count": 27,
   "metadata": {},
   "outputs": [],
   "source": [
    "#Data frame for evaluation metrics\n",
    "metrics = pd.DataFrame(index =[\"accuracy\", \"precision\", \"recall\"],\n",
    "                      columns = [\"NULL\", \"LogisticReg\", \"ClassTree\", \"NaiveBayes\"])\n"
   ]
  },
  {
   "cell_type": "markdown",
   "metadata": {},
   "source": [
    ". Accuracy: The proportion of the total number of predictions that are correct.\n",
    "\n",
    ". Precision: The proportion of positive predictions that are actually correct.\n",
    "\n",
    ". Recall: The proportion of positive observed values correctly predicted as such.\n",
    "\n",
    "### In this applicartion:\n",
    "\n",
    ". Accuracy: Overall how often the model predicts correctly defaulters and non-defaulters\n",
    "\n",
    ". Precision: When the model predicts default: how often is correct?\n",
    "\n",
    ". Recall: The proportion of actual defalters that the model will correctly predict as such\n",
    "\n",
    "### Which metric shoould I use?\n",
    "\n",
    ". False Positive: A person who will pay predicted as defaulters\n",
    "\n",
    ". False Negative: A person who will default predicted as payer.\n",
    "\n",
    "False negatives are worse => look for a better call"
   ]
  },
  {
   "cell_type": "markdown",
   "metadata": {},
   "source": [
    "### The Null model: Always predict the most common category"
   ]
  },
  {
   "cell_type": "code",
   "execution_count": 28,
   "metadata": {},
   "outputs": [
    {
     "name": "stdout",
     "output_type": "stream",
     "text": [
      "[[3505    0]\n",
      " [ 995    0]]\n"
     ]
    },
    {
     "name": "stderr",
     "output_type": "stream",
     "text": [
      "/anaconda3/lib/python3.7/site-packages/sklearn/metrics/classification.py:1143: UndefinedMetricWarning: Precision is ill-defined and being set to 0.0 due to no predicted samples.\n",
      "  'precision', 'predicted', average, warn_for)\n"
     ]
    },
    {
     "data": {
      "text/html": [
       "<div>\n",
       "<style scoped>\n",
       "    .dataframe tbody tr th:only-of-type {\n",
       "        vertical-align: middle;\n",
       "    }\n",
       "\n",
       "    .dataframe tbody tr th {\n",
       "        vertical-align: top;\n",
       "    }\n",
       "\n",
       "    .dataframe thead th {\n",
       "        text-align: right;\n",
       "    }\n",
       "</style>\n",
       "<table border=\"1\" class=\"dataframe\">\n",
       "  <thead>\n",
       "    <tr style=\"text-align: right;\">\n",
       "      <th>PREDICTION</th>\n",
       "      <th>pay</th>\n",
       "      <th>default</th>\n",
       "      <th>Total</th>\n",
       "    </tr>\n",
       "    <tr>\n",
       "      <th>True</th>\n",
       "      <th></th>\n",
       "      <th></th>\n",
       "      <th></th>\n",
       "    </tr>\n",
       "  </thead>\n",
       "  <tbody>\n",
       "    <tr>\n",
       "      <th>pay</th>\n",
       "      <td>3505</td>\n",
       "      <td>0</td>\n",
       "      <td>3505</td>\n",
       "    </tr>\n",
       "    <tr>\n",
       "      <th>default</th>\n",
       "      <td>995</td>\n",
       "      <td>0</td>\n",
       "      <td>995</td>\n",
       "    </tr>\n",
       "    <tr>\n",
       "      <th>Total</th>\n",
       "      <td>4500</td>\n",
       "      <td>0</td>\n",
       "      <td>4500</td>\n",
       "    </tr>\n",
       "  </tbody>\n",
       "</table>\n",
       "</div>"
      ],
      "text/plain": [
       "PREDICTION   pay  default  Total\n",
       "True                            \n",
       "pay         3505        0   3505\n",
       "default      995        0    995\n",
       "Total       4500        0   4500"
      ]
     },
     "execution_count": 28,
     "metadata": {},
     "output_type": "execute_result"
    }
   ],
   "source": [
    "y_pred_test = np.repeat(y_train.value_counts().idxmax(), y_test.size)\n",
    "#print(type(y_pred_test))\n",
    "#print(len(y_pred_test))\n",
    "#print(metrics)\n",
    "metrics.loc[\"accuracy\", \"NULL\"] = accuracy_score(y_pred = y_pred_test, y_true = y_test)\n",
    "metrics.loc[\"precision\", \"NULL\"] = precision_score(y_pred = y_pred_test, y_true = y_test)\n",
    "metrics.loc[\"recall\", \"NULL\"] = recall_score(y_pred = y_pred_test, y_true = y_test)\n",
    "\n",
    "CM = confusion_matrix(y_pred=y_pred_test, y_true=y_test)\n",
    "print(CM)\n",
    "CMatrix(CM)"
   ]
  },
  {
   "cell_type": "markdown",
   "metadata": {},
   "source": [
    "### A. Logistic Regression"
   ]
  },
  {
   "cell_type": "code",
   "execution_count": 29,
   "metadata": {},
   "outputs": [
    {
     "name": "stderr",
     "output_type": "stream",
     "text": [
      "/anaconda3/lib/python3.7/site-packages/sklearn/linear_model/logistic.py:433: FutureWarning: Default solver will be changed to 'lbfgs' in 0.22. Specify a solver to silence this warning.\n",
      "  FutureWarning)\n",
      "/anaconda3/lib/python3.7/site-packages/sklearn/linear_model/logistic.py:1297: UserWarning: 'n_jobs' > 1 does not have any effect when 'solver' is set to 'liblinear'. Got 'n_jobs' = 4.\n",
      "  \" = {}.\".format(effective_n_jobs(self.n_jobs)))\n"
     ]
    },
    {
     "data": {
      "text/html": [
       "<div>\n",
       "<style scoped>\n",
       "    .dataframe tbody tr th:only-of-type {\n",
       "        vertical-align: middle;\n",
       "    }\n",
       "\n",
       "    .dataframe tbody tr th {\n",
       "        vertical-align: top;\n",
       "    }\n",
       "\n",
       "    .dataframe thead th {\n",
       "        text-align: right;\n",
       "    }\n",
       "</style>\n",
       "<table border=\"1\" class=\"dataframe\">\n",
       "  <thead>\n",
       "    <tr style=\"text-align: right;\">\n",
       "      <th>PREDICTION</th>\n",
       "      <th>pay</th>\n",
       "      <th>default</th>\n",
       "      <th>Total</th>\n",
       "    </tr>\n",
       "    <tr>\n",
       "      <th>True</th>\n",
       "      <th></th>\n",
       "      <th></th>\n",
       "      <th></th>\n",
       "    </tr>\n",
       "  </thead>\n",
       "  <tbody>\n",
       "    <tr>\n",
       "      <th>pay</th>\n",
       "      <td>3365</td>\n",
       "      <td>140</td>\n",
       "      <td>3505</td>\n",
       "    </tr>\n",
       "    <tr>\n",
       "      <th>default</th>\n",
       "      <td>672</td>\n",
       "      <td>323</td>\n",
       "      <td>995</td>\n",
       "    </tr>\n",
       "    <tr>\n",
       "      <th>Total</th>\n",
       "      <td>4037</td>\n",
       "      <td>463</td>\n",
       "      <td>4500</td>\n",
       "    </tr>\n",
       "  </tbody>\n",
       "</table>\n",
       "</div>"
      ],
      "text/plain": [
       "PREDICTION   pay  default  Total\n",
       "True                            \n",
       "pay         3365      140   3505\n",
       "default      672      323    995\n",
       "Total       4037      463   4500"
      ]
     },
     "execution_count": 29,
     "metadata": {},
     "output_type": "execute_result"
    }
   ],
   "source": [
    "# 1. Import the estimator object (model)\n",
    "from sklearn.linear_model import LogisticRegression\n",
    "\n",
    "# 2. Create an instance of the estimator\n",
    "logistic_regression = LogisticRegression(n_jobs = -1, random_state = 15)\n",
    "\n",
    "# 3. Use the training data to train the estimator\n",
    "logistic_regression.fit(X_train, y_train)\n",
    "\n",
    "# 4. Evaluate the model\n",
    "y_pred_test = logistic_regression.predict(X_test)\n",
    "metrics.loc[\"accuracy\", \"LogisticReg\"] = accuracy_score(y_pred=y_pred_test, y_true=y_test)\n",
    "metrics.loc[\"precision\", \"LogisticReg\"] = precision_score(y_pred=y_pred_test, y_true=y_test)\n",
    "metrics.loc[\"recall\", \"LogisticReg\"] = recall_score(y_pred=y_pred_test, y_true=y_test)\n",
    "# Confusion matrix\n",
    "CM = confusion_matrix(y_pred=y_pred_test, y_true=y_test)\n",
    "CMatrix(CM)"
   ]
  },
  {
   "cell_type": "markdown",
   "metadata": {},
   "source": [
    "### B. Classification Trees"
   ]
  },
  {
   "cell_type": "code",
   "execution_count": 30,
   "metadata": {},
   "outputs": [
    {
     "data": {
      "text/html": [
       "<div>\n",
       "<style scoped>\n",
       "    .dataframe tbody tr th:only-of-type {\n",
       "        vertical-align: middle;\n",
       "    }\n",
       "\n",
       "    .dataframe tbody tr th {\n",
       "        vertical-align: top;\n",
       "    }\n",
       "\n",
       "    .dataframe thead th {\n",
       "        text-align: right;\n",
       "    }\n",
       "</style>\n",
       "<table border=\"1\" class=\"dataframe\">\n",
       "  <thead>\n",
       "    <tr style=\"text-align: right;\">\n",
       "      <th>PREDICTION</th>\n",
       "      <th>pay</th>\n",
       "      <th>default</th>\n",
       "      <th>Total</th>\n",
       "    </tr>\n",
       "    <tr>\n",
       "      <th>True</th>\n",
       "      <th></th>\n",
       "      <th></th>\n",
       "      <th></th>\n",
       "    </tr>\n",
       "  </thead>\n",
       "  <tbody>\n",
       "    <tr>\n",
       "      <th>pay</th>\n",
       "      <td>3188</td>\n",
       "      <td>317</td>\n",
       "      <td>3505</td>\n",
       "    </tr>\n",
       "    <tr>\n",
       "      <th>default</th>\n",
       "      <td>609</td>\n",
       "      <td>386</td>\n",
       "      <td>995</td>\n",
       "    </tr>\n",
       "    <tr>\n",
       "      <th>Total</th>\n",
       "      <td>3797</td>\n",
       "      <td>703</td>\n",
       "      <td>4500</td>\n",
       "    </tr>\n",
       "  </tbody>\n",
       "</table>\n",
       "</div>"
      ],
      "text/plain": [
       "PREDICTION   pay  default  Total\n",
       "True                            \n",
       "pay         3188      317   3505\n",
       "default      609      386    995\n",
       "Total       3797      703   4500"
      ]
     },
     "execution_count": 30,
     "metadata": {},
     "output_type": "execute_result"
    }
   ],
   "source": [
    "# 1. Import the estimator object (model)\n",
    "from sklearn.tree import DecisionTreeClassifier\n",
    "\n",
    "# 2. Create an instance of the estimator\n",
    "class_tree = DecisionTreeClassifier(min_samples_split=30, min_samples_leaf=10, random_state=10)\n",
    "\n",
    "# 3. Use the training data to train the estimator\n",
    "class_tree.fit(X_train, y_train)\n",
    "\n",
    "# 4. Evaluate the model\n",
    "y_pred_test = class_tree.predict(X_test)\n",
    "metrics.loc[\"accuracy\", \"ClassTree\"] = accuracy_score(y_pred=y_pred_test, y_true=y_test)\n",
    "metrics.loc[\"precision\", \"ClassTree\"] = precision_score(y_pred=y_pred_test, y_true=y_test)\n",
    "metrics.loc[\"recall\", \"ClassTree\"] = recall_score(y_pred=y_pred_test, y_true=y_test)\n",
    "# Confusion Matrix\n",
    "CM = confusion_matrix(y_pred = y_pred_test, y_true=y_test)\n",
    "CMatrix(CM)"
   ]
  },
  {
   "cell_type": "markdown",
   "metadata": {},
   "source": [
    "### C. Naive Bayes Classifier"
   ]
  },
  {
   "cell_type": "code",
   "execution_count": 31,
   "metadata": {},
   "outputs": [
    {
     "data": {
      "text/html": [
       "<div>\n",
       "<style scoped>\n",
       "    .dataframe tbody tr th:only-of-type {\n",
       "        vertical-align: middle;\n",
       "    }\n",
       "\n",
       "    .dataframe tbody tr th {\n",
       "        vertical-align: top;\n",
       "    }\n",
       "\n",
       "    .dataframe thead th {\n",
       "        text-align: right;\n",
       "    }\n",
       "</style>\n",
       "<table border=\"1\" class=\"dataframe\">\n",
       "  <thead>\n",
       "    <tr style=\"text-align: right;\">\n",
       "      <th>PREDICTION</th>\n",
       "      <th>pay</th>\n",
       "      <th>default</th>\n",
       "      <th>Total</th>\n",
       "    </tr>\n",
       "    <tr>\n",
       "      <th>True</th>\n",
       "      <th></th>\n",
       "      <th></th>\n",
       "      <th></th>\n",
       "    </tr>\n",
       "  </thead>\n",
       "  <tbody>\n",
       "    <tr>\n",
       "      <th>pay</th>\n",
       "      <td>2911</td>\n",
       "      <td>594</td>\n",
       "      <td>3505</td>\n",
       "    </tr>\n",
       "    <tr>\n",
       "      <th>default</th>\n",
       "      <td>440</td>\n",
       "      <td>555</td>\n",
       "      <td>995</td>\n",
       "    </tr>\n",
       "    <tr>\n",
       "      <th>Total</th>\n",
       "      <td>3351</td>\n",
       "      <td>1149</td>\n",
       "      <td>4500</td>\n",
       "    </tr>\n",
       "  </tbody>\n",
       "</table>\n",
       "</div>"
      ],
      "text/plain": [
       "PREDICTION   pay  default  Total\n",
       "True                            \n",
       "pay         2911      594   3505\n",
       "default      440      555    995\n",
       "Total       3351     1149   4500"
      ]
     },
     "execution_count": 31,
     "metadata": {},
     "output_type": "execute_result"
    }
   ],
   "source": [
    "# 1.- Import the estimator object(model)\n",
    "from sklearn.naive_bayes import GaussianNB\n",
    "\n",
    "# 2.- Create an instance of the estimator\n",
    "NBC = GaussianNB()\n",
    "\n",
    "# 3.- Use the training data to train the estimator\n",
    "NBC.fit(X_train, y_train)\n",
    "\n",
    "# 4.- Evaluate the model\n",
    "y_pred_test = NBC.predict(X_test)\n",
    "metrics.loc[\"accuracy\", \"NaiveBayes\"] = accuracy_score(y_pred=y_pred_test, y_true=y_test)\n",
    "metrics.loc[\"precision\", \"NaiveBayes\"] = precision_score(y_pred=y_pred_test, y_true=y_test)\n",
    "metrics.loc[\"recall\", \"NaiveBayes\"] = recall_score(y_pred=y_pred_test, y_true=y_test)\n",
    "\n",
    "# Confusion Matrix\n",
    "CM = confusion_matrix(y_pred=y_pred_test, y_true=y_test)\n",
    "CMatrix(CM)\n"
   ]
  },
  {
   "cell_type": "code",
   "execution_count": 32,
   "metadata": {},
   "outputs": [
    {
     "data": {
      "text/html": [
       "<div>\n",
       "<style scoped>\n",
       "    .dataframe tbody tr th:only-of-type {\n",
       "        vertical-align: middle;\n",
       "    }\n",
       "\n",
       "    .dataframe tbody tr th {\n",
       "        vertical-align: top;\n",
       "    }\n",
       "\n",
       "    .dataframe thead th {\n",
       "        text-align: right;\n",
       "    }\n",
       "</style>\n",
       "<table border=\"1\" class=\"dataframe\">\n",
       "  <thead>\n",
       "    <tr style=\"text-align: right;\">\n",
       "      <th></th>\n",
       "      <th>NULL</th>\n",
       "      <th>LogisticReg</th>\n",
       "      <th>ClassTree</th>\n",
       "      <th>NaiveBayes</th>\n",
       "    </tr>\n",
       "  </thead>\n",
       "  <tbody>\n",
       "    <tr>\n",
       "      <th>accuracy</th>\n",
       "      <td>77.8889</td>\n",
       "      <td>81.9556</td>\n",
       "      <td>79.4222</td>\n",
       "      <td>77.0222</td>\n",
       "    </tr>\n",
       "    <tr>\n",
       "      <th>precision</th>\n",
       "      <td>0</td>\n",
       "      <td>69.7624</td>\n",
       "      <td>54.9075</td>\n",
       "      <td>48.3029</td>\n",
       "    </tr>\n",
       "    <tr>\n",
       "      <th>recall</th>\n",
       "      <td>0</td>\n",
       "      <td>32.4623</td>\n",
       "      <td>38.794</td>\n",
       "      <td>55.7789</td>\n",
       "    </tr>\n",
       "  </tbody>\n",
       "</table>\n",
       "</div>"
      ],
      "text/plain": [
       "              NULL LogisticReg ClassTree NaiveBayes\n",
       "accuracy   77.8889     81.9556   79.4222    77.0222\n",
       "precision        0     69.7624   54.9075    48.3029\n",
       "recall           0     32.4623    38.794    55.7789"
      ]
     },
     "execution_count": 32,
     "metadata": {},
     "output_type": "execute_result"
    }
   ],
   "source": [
    "100*metrics"
   ]
  },
  {
   "cell_type": "code",
   "execution_count": 33,
   "metadata": {},
   "outputs": [
    {
     "data": {
      "image/png": "[encoded data removed]",
      "text/plain": [
       "<Figure size 576x360 with 1 Axes>"
      ]
     },
     "metadata": {
      "needs_background": "light"
     },
     "output_type": "display_data"
    }
   ],
   "source": [
    "fig, ax = plt.subplots(figsize=(8,5))\n",
    "metrics.plot(kind=\"barh\", ax=ax)\n",
    "ax.grid()"
   ]
  },
  {
   "cell_type": "markdown",
   "metadata": {},
   "source": [
    "###### We care more about recall because false negative are worse.\n",
    "So far, it looks like NaiveBayes model regression is the best for recall, but this is not the whole story because we can modify or adjust the values for recall and precision by modifying the threshold"
   ]
  },
  {
   "cell_type": "code",
   "execution_count": 34,
   "metadata": {},
   "outputs": [],
   "source": [
    "precision_nb, recall_nb, threshold_nb = precision_recall_curve(y_true=y_test,\n",
    "                                                             probas_pred=NBC.predict_proba(X_test)[:,1])\n",
    "precision_lr, recall_lr, threshold_lr = precision_recall_curve(y_true=y_test,\n",
    "                                                             probas_pred=logistic_regression.predict_proba(X_test)[:,1])\n"
   ]
  },
  {
   "cell_type": "code",
   "execution_count": 35,
   "metadata": {},
   "outputs": [
    {
     "data": {
      "image/png": "[encoded data removed]",
      "text/plain": [
       "<Figure size 576x360 with 1 Axes>"
      ]
     },
     "metadata": {
      "needs_background": "light"
     },
     "output_type": "display_data"
    }
   ],
   "source": [
    "fig, ax = plt.subplots(figsize=(8,5))\n",
    "ax.plot(precision_nb, recall_nb, label=\"NaiveBayes\")\n",
    "ax.plot(precision_lr, recall_lr, label=\"LogisticReg\")\n",
    "ax.set_xlabel(\"Precision\")\n",
    "ax.set_ylabel(\"Recall\")\n",
    "ax.set_title(\"Precision-Recall Curve\")\n",
    "ax.hlines(y=0.5, xmin=0, xmax=1, color=\"red\")\n",
    "ax.legend()\n",
    "ax.grid()"
   ]
  },
  {
   "cell_type": "markdown",
   "metadata": {},
   "source": [
    "It looks like Logistic Regression is actually a better module than NaiveBayes.\n",
    "\n",
    "How do we do to adjust the Classification Threshold for Logistic Regression to have similar/better recall than NaiveBayes?\n",
    "\n",
    "We can do that doing the relationship between threshold of two metrics."
   ]
  },
  {
   "cell_type": "markdown",
   "metadata": {},
   "source": [
    "### Confusion matrix for modified Logistic Regression Classifier"
   ]
  },
  {
   "cell_type": "code",
   "execution_count": 36,
   "metadata": {},
   "outputs": [
    {
     "data": {
      "image/png": "[encoded data removed]",
      "text/plain": [
       "<Figure size 576x360 with 1 Axes>"
      ]
     },
     "metadata": {
      "needs_background": "light"
     },
     "output_type": "display_data"
    }
   ],
   "source": [
    "fig, ax = plt.subplots(figsize=(8,5))\n",
    "ax.plot(threshold_lr, precision_lr[1:], label=\"Precision\")\n",
    "ax.plot(threshold_lr, recall_lr[1:], label=\"Recall\")\n",
    "ax.set_xlabel(\"Classification Threshold\")\n",
    "ax.set_ylabel(\"Precision, Recall\")\n",
    "ax.set_title(\"Logistic Regression Classifier: Precision-Recall\")\n",
    "ax.hlines(y=0.6, xmin=0, xmax=1, color=\"red\")\n",
    "ax.legend()\n",
    "ax.grid()"
   ]
  },
  {
   "cell_type": "markdown",
   "metadata": {},
   "source": [
    "### Classifier with threshold of 0.2"
   ]
  },
  {
   "cell_type": "code",
   "execution_count": 37,
   "metadata": {},
   "outputs": [
    {
     "name": "stdout",
     "output_type": "stream",
     "text": [
      "X_test.shape = (4500, 26)\n",
      "(4500, 26)\n",
      "[0.91152803 0.15069873 0.03040014 ... 0.14843522 0.11734299 0.12107685]\n",
      "y_pred_proba = (4500,)\n",
      "Recall:  59.497487437185924\n",
      "Precision:  47.935222672064775\n"
     ]
    },
    {
     "data": {
      "text/html": [
       "<div>\n",
       "<style scoped>\n",
       "    .dataframe tbody tr th:only-of-type {\n",
       "        vertical-align: middle;\n",
       "    }\n",
       "\n",
       "    .dataframe tbody tr th {\n",
       "        vertical-align: top;\n",
       "    }\n",
       "\n",
       "    .dataframe thead th {\n",
       "        text-align: right;\n",
       "    }\n",
       "</style>\n",
       "<table border=\"1\" class=\"dataframe\">\n",
       "  <thead>\n",
       "    <tr style=\"text-align: right;\">\n",
       "      <th>PREDICTION</th>\n",
       "      <th>pay</th>\n",
       "      <th>default</th>\n",
       "      <th>Total</th>\n",
       "    </tr>\n",
       "    <tr>\n",
       "      <th>True</th>\n",
       "      <th></th>\n",
       "      <th></th>\n",
       "      <th></th>\n",
       "    </tr>\n",
       "  </thead>\n",
       "  <tbody>\n",
       "    <tr>\n",
       "      <th>pay</th>\n",
       "      <td>2862</td>\n",
       "      <td>643</td>\n",
       "      <td>3505</td>\n",
       "    </tr>\n",
       "    <tr>\n",
       "      <th>default</th>\n",
       "      <td>403</td>\n",
       "      <td>592</td>\n",
       "      <td>995</td>\n",
       "    </tr>\n",
       "    <tr>\n",
       "      <th>Total</th>\n",
       "      <td>3265</td>\n",
       "      <td>1235</td>\n",
       "      <td>4500</td>\n",
       "    </tr>\n",
       "  </tbody>\n",
       "</table>\n",
       "</div>"
      ],
      "text/plain": [
       "PREDICTION   pay  default  Total\n",
       "True                            \n",
       "pay         2862      643   3505\n",
       "default      403      592    995\n",
       "Total       3265     1235   4500"
      ]
     },
     "execution_count": 37,
     "metadata": {},
     "output_type": "execute_result"
    }
   ],
   "source": [
    "print(\"X_test.shape = {}\".format(X_test.shape))\n",
    "print(X_test.shape)\n",
    "y_pred_proba = logistic_regression.predict_proba(X_test)[:,1]\n",
    "print(y_pred_proba)\n",
    "print(\"y_pred_proba = {}\".format(y_pred_proba.shape))\n",
    "y_pred_test = (y_pred_proba >= 0.2).astype(\"int\")\n",
    "#Confusion matrix\n",
    "CM = confusion_matrix(y_pred=y_pred_test, y_true=y_test)\n",
    "print(\"Recall: \", 100*recall_score(y_pred=y_pred_test, y_true=y_test))\n",
    "print(\"Precision: \", 100*precision_score(y_pred=y_pred_test, y_true=y_test))\n",
    "CMatrix(CM)"
   ]
  },
  {
   "cell_type": "markdown",
   "metadata": {},
   "source": [
    "### Making individual predictions"
   ]
  },
  {
   "cell_type": "code",
   "execution_count": 93,
   "metadata": {},
   "outputs": [],
   "source": [
    "def make_ind_predictions(new_data):\n",
    "    data = np.hstack((np.ones((1,1), dtype=np.float64), new_data.values.reshape(1,-1)))\n",
    "    #print(data)\n",
    "    #data = robust_scaler.transform(data)\n",
    "    #print(\"data.shape = {}\".format(data.shape))\n",
    "    \n",
    "    transformer = robust_scaler.fit(data)\n",
    "    data = transformer.transform(data)\n",
    "    print(data)\n",
    "    print(logistic_regression.predict_proba(data))\n",
    "    prob = logistic_regression.predict_proba(data)[0][1]\n",
    "    print(\"prob = {}\".format(prob))\n",
    "    if prob >= 0.2:\n",
    "        return \"Will default\"\n",
    "    else:\n",
    "        return \"Will pay\"\n",
    "    "
   ]
  },
  {
   "cell_type": "code",
   "execution_count": 94,
   "metadata": {},
   "outputs": [],
   "source": [
    "pay = default[default[\"default\"] == 0]\n",
    "#pay.head()"
   ]
  },
  {
   "cell_type": "code",
   "execution_count": 95,
   "metadata": {},
   "outputs": [
    {
     "name": "stdout",
     "output_type": "stream",
     "text": [
      "[[0. 0. 0. 0. 0. 0. 0. 0. 0. 0. 0. 0. 0. 0. 0. 0. 0. 0. 0. 0. 0. 0. 0. 0.\n",
      "  0. 0.]]\n",
      "[[0.94298779 0.05701221]]\n",
      "prob = 0.05701220865156769\n"
     ]
    },
    {
     "data": {
      "text/plain": [
       "'Will pay'"
      ]
     },
     "execution_count": 95,
     "metadata": {},
     "output_type": "execute_result"
    }
   ],
   "source": [
    "from collections import OrderedDict\n",
    "new_customer = OrderedDict([(\"limit_bal\", 4000), (\"age\", 50), (\"bill_amt1\", 500),\n",
    "                           (\"bill_amt2\", 35509), (\"bill_amt3\", 689), (\"bill_amt4\", 0),\n",
    "                           (\"bill_amt5\", 0), (\"bill_amt6\", 0), (\"pay_amt1\", 0), (\"pay_amt2\", 35509),\n",
    "                           (\"pay_amt3\", 0), (\"pay_amt4\", 0), (\"pay_amt5\", 0), (\"pay_amt6\", 0),\n",
    "                           (\"male\", 1), (\"grad_school\", 0), (\"university\", 1), (\"high_school\", 0),\n",
    "                           (\"married\", 1), (\"pay_0\", -1), (\"pay_2\", -1), (\"pay_3\", -1),\n",
    "                           (\"pay_4\", 0), (\"pay_5\", -1), (\"pay_6\", 0)])\n",
    "\n",
    "new_customer = pd.Series(new_customer)\n",
    "make_ind_predictions(new_customer)\n"
   ]
  },
  {
   "cell_type": "code",
   "execution_count": null,
   "metadata": {},
   "outputs": [],
   "source": []
  },
  {
   "cell_type": "code",
   "execution_count": null,
   "metadata": {},
   "outputs": [],
   "source": []
  },
  {
   "cell_type": "code",
   "execution_count": null,
   "metadata": {},
   "outputs": [],
   "source": []
  }
 ],
 "metadata": {
  "kernelspec": {
   "display_name": "Python 3",
   "language": "python",
   "name": "python3"
  },
  "language_info": {
   "codemirror_mode": {
    "name": "ipython",
    "version": 3
   },
   "file_extension": ".py",
   "mimetype": "text/x-python",
   "name": "python",
   "nbconvert_exporter": "python",
   "pygments_lexer": "ipython3",
   "version": "3.7.1"
  }
 },
 "nbformat": 4,
 "nbformat_minor": 2
}
