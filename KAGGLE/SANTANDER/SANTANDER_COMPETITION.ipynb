{
 "cells": [
  {
   "cell_type": "markdown",
   "metadata": {},
   "source": [
    "binary classification problems such as: is a customer satisfied? Will a customer buy this product? Can a customer pay this loan?\n",
    "\n",
    "\n",
    "0 = No\n",
    "1 = Yes"
   ]
  },
  {
   "cell_type": "markdown",
   "metadata": {},
   "source": [
    "import modules"
   ]
  },
  {
   "cell_type": "code",
   "execution_count": null,
   "metadata": {},
   "outputs": [],
   "source": [
    "import pandas as pd\n",
    "import numpy as np\n",
    "import matplotlib.pyplot as plt"
   ]
  },
  {
   "cell_type": "code",
   "execution_count": 7,
   "metadata": {},
   "outputs": [
    {
     "name": "stdout",
     "output_type": "stream",
     "text": [
      "   ID_code  target    var_0   var_1    var_2   var_3    var_4   var_5   var_6  \\\n",
      "0  train_0       0   8.9255 -6.7863  11.9081  5.0930  11.4607 -9.2834  5.1187   \n",
      "1  train_1       0  11.5006 -4.1473  13.8588  5.3890  12.3622  7.0433  5.6208   \n",
      "2  train_2       0   8.6093 -2.7457  12.0805  7.8928  10.5825 -9.0837  6.9427   \n",
      "3  train_3       0  11.0604 -2.1518   8.9522  7.1957  12.5846 -1.8361  5.8428   \n",
      "4  train_4       0   9.8369 -1.4834  12.8746  6.6375  12.2772  2.4486  5.9405   \n",
      "\n",
      "     var_7   ...     var_190  var_191  var_192  var_193  var_194  var_195  \\\n",
      "0  18.6266   ...      4.4354   3.9642   3.1364   1.6910  18.5227  -2.3978   \n",
      "1  16.5338   ...      7.6421   7.7214   2.5837  10.9516  15.4305   2.0339   \n",
      "2  14.6155   ...      2.9057   9.7905   1.6704   1.6858  21.6042   3.1417   \n",
      "3  14.9250   ...      4.4666   4.7433   0.7178   1.4214  23.0347  -1.2706   \n",
      "4  19.2514   ...     -1.4905   9.5214  -0.1508   9.1942  13.2876  -1.5121   \n",
      "\n",
      "   var_196  var_197  var_198  var_199  \n",
      "0   7.8784   8.5635  12.7803  -1.0914  \n",
      "1   8.1267   8.7889  18.3560   1.9518  \n",
      "2  -6.5213   8.2675  14.7222   0.3965  \n",
      "3  -2.9275  10.2922  17.9697  -8.9996  \n",
      "4   3.9267   9.5031  17.9974  -8.8104  \n",
      "\n",
      "[5 rows x 202 columns]\n"
     ]
    }
   ],
   "source": [
    "data = pd.read_csv(\"train.csv\")\n",
    "print(data.head())"
   ]
  },
  {
   "cell_type": "markdown",
   "metadata": {},
   "source": [
    "EDA: Exploration Data Analysis"
   ]
  },
  {
   "cell_type": "code",
   "execution_count": 23,
   "metadata": {},
   "outputs": [
    {
     "name": "stdout",
     "output_type": "stream",
     "text": [
      "0    0\n",
      "1    0\n",
      "2    0\n",
      "3    0\n",
      "4    0\n",
      "Name: target, dtype: int64\n"
     ]
    }
   ],
   "source": [
    "y = data[\"target\"]\n",
    "print(y.head())"
   ]
  },
  {
   "cell_type": "code",
   "execution_count": 24,
   "metadata": {},
   "outputs": [
    {
     "name": "stdout",
     "output_type": "stream",
     "text": [
      "     var_0   var_1    var_2   var_3    var_4   var_5   var_6    var_7   var_8  \\\n",
      "0   8.9255 -6.7863  11.9081  5.0930  11.4607 -9.2834  5.1187  18.6266 -4.9200   \n",
      "1  11.5006 -4.1473  13.8588  5.3890  12.3622  7.0433  5.6208  16.5338  3.1468   \n",
      "2   8.6093 -2.7457  12.0805  7.8928  10.5825 -9.0837  6.9427  14.6155 -4.9193   \n",
      "3  11.0604 -2.1518   8.9522  7.1957  12.5846 -1.8361  5.8428  14.9250 -5.8609   \n",
      "4   9.8369 -1.4834  12.8746  6.6375  12.2772  2.4486  5.9405  19.2514  6.2654   \n",
      "\n",
      "    var_9   ...     var_190  var_191  var_192  var_193  var_194  var_195  \\\n",
      "0  5.7470   ...      4.4354   3.9642   3.1364   1.6910  18.5227  -2.3978   \n",
      "1  8.0851   ...      7.6421   7.7214   2.5837  10.9516  15.4305   2.0339   \n",
      "2  5.9525   ...      2.9057   9.7905   1.6704   1.6858  21.6042   3.1417   \n",
      "3  8.2450   ...      4.4666   4.7433   0.7178   1.4214  23.0347  -1.2706   \n",
      "4  7.6784   ...     -1.4905   9.5214  -0.1508   9.1942  13.2876  -1.5121   \n",
      "\n",
      "   var_196  var_197  var_198  var_199  \n",
      "0   7.8784   8.5635  12.7803  -1.0914  \n",
      "1   8.1267   8.7889  18.3560   1.9518  \n",
      "2  -6.5213   8.2675  14.7222   0.3965  \n",
      "3  -2.9275  10.2922  17.9697  -8.9996  \n",
      "4   3.9267   9.5031  17.9974  -8.8104  \n",
      "\n",
      "[5 rows x 200 columns]\n"
     ]
    }
   ],
   "source": [
    "X = data.drop([\"ID_code\", \"target\"], axis = 1)\n",
    "print(X.head())"
   ]
  },
  {
   "cell_type": "markdown",
   "metadata": {},
   "source": [
    "Analyze if there is null elements"
   ]
  },
  {
   "cell_type": "code",
   "execution_count": 25,
   "metadata": {},
   "outputs": [
    {
     "name": "stdout",
     "output_type": "stream",
     "text": [
      "cols that have null values = 0, cols that do not have null values = 200\n"
     ]
    }
   ],
   "source": [
    "nullv = 0\n",
    "n_nullv = 0\n",
    "for col in X.columns:\n",
    "    if X[col].isnull().sum() > 0:\n",
    "        nullv += 1\n",
    "        #print(\"{} contains null values\". format(col))\n",
    "    else:\n",
    "        n_nullv += 1\n",
    "        #print(\"{} does not contains null values\".format(col))\n",
    "\n",
    "print(\"cols that have null values = {}, cols that do not have null values = {}\".format(nullv, n_nullv))\n"
   ]
  },
  {
   "cell_type": "markdown",
   "metadata": {},
   "source": [
    "* There are not null values in each column, so each column represent a valid feature for the prediction.\n",
    "\n",
    "* Also, we do not know the columns (They are masked). Hence, it is difficult to find some column that helps us to relate with the target(Which represent the prediction).\n",
    "\n",
    "* I think the idea would be to find the best features that fits the logistic regression model.\n",
    "\n",
    "* We do not have categorical columns"
   ]
  },
  {
   "cell_type": "code",
   "execution_count": 30,
   "metadata": {},
   "outputs": [
    {
     "data": {
      "image/png": "[encoded data removed]",
      "text/plain": [
       "<Figure size 432x288 with 2 Axes>"
      ]
     },
     "metadata": {
      "needs_background": "light"
     },
     "output_type": "display_data"
    }
   ],
   "source": [
    "import seaborn as sns\n",
    "#All the columns from X are numerics\n",
    "numeric = [\"var_0\", \"var_1\", \"var_2\"]\n",
    "#numeric = X.columns\n",
    "#print(numeric)\n",
    "sns.heatmap(data[numeric].corr(), cmap = \"coolwarm\");"
   ]
  },
  {
   "cell_type": "code",
   "execution_count": 12,
   "metadata": {},
   "outputs": [
    {
     "name": "stdout",
     "output_type": "stream",
     "text": [
      "var_0\n",
      "var_1\n",
      "var_2\n",
      "var_3\n",
      "var_4\n",
      "var_5\n",
      "var_6\n",
      "var_7\n",
      "var_8\n",
      "var_9\n",
      "var_10\n",
      "var_11\n",
      "var_12\n",
      "var_13\n",
      "var_14\n",
      "var_15\n",
      "var_16\n",
      "var_17\n",
      "var_18\n",
      "var_19\n",
      "var_20\n",
      "var_21\n",
      "var_22\n",
      "var_23\n",
      "var_24\n",
      "var_25\n",
      "var_26\n",
      "var_27\n",
      "var_28\n",
      "var_29\n",
      "var_30\n",
      "var_31\n",
      "var_32\n",
      "var_33\n",
      "var_34\n",
      "var_35\n",
      "var_36\n",
      "var_37\n",
      "var_38\n",
      "var_39\n",
      "var_40\n",
      "var_41\n",
      "var_42\n",
      "var_43\n",
      "var_44\n",
      "var_45\n",
      "var_46\n",
      "var_47\n",
      "var_48\n",
      "var_49\n",
      "var_50\n",
      "var_51\n",
      "var_52\n",
      "var_53\n",
      "var_54\n",
      "var_55\n",
      "var_56\n",
      "var_57\n",
      "var_58\n",
      "var_59\n",
      "var_60\n",
      "var_61\n",
      "var_62\n",
      "var_63\n",
      "var_64\n",
      "var_65\n",
      "var_66\n",
      "var_67\n",
      "var_68\n",
      "var_69\n",
      "var_70\n",
      "var_71\n",
      "var_72\n",
      "var_73\n",
      "var_74\n",
      "var_75\n",
      "var_76\n",
      "var_77\n",
      "var_78\n",
      "var_79\n",
      "var_80\n",
      "var_81\n",
      "var_82\n",
      "var_83\n",
      "var_84\n",
      "var_85\n",
      "var_86\n",
      "var_87\n",
      "var_88\n",
      "var_89\n",
      "var_90\n",
      "var_91\n",
      "var_92\n",
      "var_93\n",
      "var_94\n",
      "var_95\n",
      "var_96\n",
      "var_97\n",
      "var_98\n",
      "var_99\n",
      "var_100\n",
      "var_101\n",
      "var_102\n",
      "var_103\n",
      "var_104\n",
      "var_105\n",
      "var_106\n",
      "var_107\n",
      "var_108\n",
      "var_109\n",
      "var_110\n",
      "var_111\n",
      "var_112\n",
      "var_113\n",
      "var_114\n",
      "var_115\n",
      "var_116\n",
      "var_117\n",
      "var_118\n",
      "var_119\n",
      "var_120\n",
      "var_121\n",
      "var_122\n",
      "var_123\n",
      "var_124\n",
      "var_125\n",
      "var_126\n",
      "var_127\n",
      "var_128\n",
      "var_129\n",
      "var_130\n",
      "var_131\n",
      "var_132\n",
      "var_133\n",
      "var_134\n",
      "var_135\n",
      "var_136\n",
      "var_137\n",
      "var_138\n",
      "var_139\n",
      "var_140\n",
      "var_141\n",
      "var_142\n",
      "var_143\n",
      "var_144\n",
      "var_145\n",
      "var_146\n",
      "var_147\n",
      "var_148\n",
      "var_149\n",
      "var_150\n",
      "var_151\n",
      "var_152\n",
      "var_153\n",
      "var_154\n",
      "var_155\n",
      "var_156\n",
      "var_157\n",
      "var_158\n",
      "var_159\n",
      "var_160\n",
      "var_161\n",
      "var_162\n",
      "var_163\n",
      "var_164\n",
      "var_165\n",
      "var_166\n",
      "var_167\n",
      "var_168\n",
      "var_169\n",
      "var_170\n",
      "var_171\n",
      "var_172\n",
      "var_173\n",
      "var_174\n",
      "var_175\n",
      "var_176\n",
      "var_177\n",
      "var_178\n",
      "var_179\n",
      "var_180\n",
      "var_181\n",
      "var_182\n",
      "var_183\n",
      "var_184\n",
      "var_185\n",
      "var_186\n",
      "var_187\n",
      "var_188\n",
      "var_189\n",
      "var_190\n",
      "var_191\n",
      "var_192\n",
      "var_193\n",
      "var_194\n",
      "var_195\n",
      "var_196\n",
      "var_197\n",
      "var_198\n",
      "var_199\n"
     ]
    }
   ],
   "source": [
    "ans1 = har_train.isnull().sum()\n",
    "\n",
    "\n",
    "for c in X.columns:\n",
    "    "
   ]
  },
  {
   "cell_type": "code",
   "execution_count": null,
   "metadata": {},
   "outputs": [],
   "source": []
  }
 ],
 "metadata": {
  "kernelspec": {
   "display_name": "Python 3",
   "language": "python",
   "name": "python3"
  },
  "language_info": {
   "codemirror_mode": {
    "name": "ipython",
    "version": 3
   },
   "file_extension": ".py",
   "mimetype": "text/x-python",
   "name": "python",
   "nbconvert_exporter": "python",
   "pygments_lexer": "ipython3",
   "version": "3.7.1"
  }
 },
 "nbformat": 4,
 "nbformat_minor": 2
}
