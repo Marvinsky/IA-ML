{
 "cells": [
  {
   "cell_type": "markdown",
   "metadata": {},
   "source": [
    "    Polynomial Regression:\n",
    "    \n",
    "    As discussed in the lectures, linear regression is linear due to the linear dependence on the\n",
    "    coefficients. It is possible to have determine coefficients of linear combinations of arbitrary\n",
    "    nonlinear functions to fit data. This is appropriate to describe trends (e.g., periodicity) that\n",
    "    cannot be described well by degree one polynomials.\n"
   ]
  },
  {
   "cell_type": "markdown",
   "metadata": {},
   "source": []
  },
  {
   "cell_type": "markdown",
   "metadata": {},
   "source": [
    "As an example, let's try to fit the following points on a rectangular pulse using polynomial functions."
   ]
  },
  {
   "cell_type": "code",
   "execution_count": 2,
   "metadata": {},
   "outputs": [],
   "source": [
    "import pandas as pd\n",
    "import numpy as np\n",
    "import matplotlib.pyplot as plt\n",
    "plt.rcParams[\"font.size\"] = 12\n",
    "plt.rcParams[\"figure.figsize\"] = (10.0, 5.0)"
   ]
  },
  {
   "cell_type": "code",
   "execution_count": 5,
   "metadata": {},
   "outputs": [
    {
     "name": "stdout",
     "output_type": "stream",
     "text": [
      "[[-5.]\n",
      " [-4.]\n",
      " [-3.]\n",
      " [-2.]\n",
      " [-1.]\n",
      " [ 0.]\n",
      " [ 1.]\n",
      " [ 2.]\n",
      " [ 3.]\n",
      " [ 4.]\n",
      " [ 5.]]\n"
     ]
    }
   ],
   "source": [
    "x = np.linspace(-5,5,11).reshape((11,1))\n",
    "y = np.zeros((11,1))\n",
    "y[3:6] = 1"
   ]
  },
  {
   "cell_type": "code",
   "execution_count": 7,
   "metadata": {},
   "outputs": [
    {
     "data": {
      "image/png": "[encoded data removed]",
      "text/plain": [
       "<Figure size 432x288 with 1 Axes>"
      ]
     },
     "metadata": {
      "needs_background": "light"
     },
     "output_type": "display_data"
    }
   ],
   "source": [
    "plt.plot(x, y, 'rx', markersize=7.5)\n",
    "plt.axis('equal')\n",
    "plt.ylim([-5.5,5.5])\n",
    "plt.xlim([-2,2])\n",
    "plt.grid(True)\n",
    "plt.show()"
   ]
  },
  {
   "cell_type": "code",
   "execution_count": 10,
   "metadata": {},
   "outputs": [
    {
     "name": "stdout",
     "output_type": "stream",
     "text": [
      "[[ 0.56410256]\n",
      " [-0.02727273]\n",
      " [-0.02913753]]\n",
      "[[-1.67307692e-01]\n",
      " [-1.51187470e-01]\n",
      " [-1.35245306e-01]\n",
      " [-1.19481200e-01]\n",
      " [-1.03895152e-01]\n",
      " [-8.84871627e-02]\n",
      " [-7.32572313e-02]\n",
      " [-5.82053581e-02]\n",
      " [-4.33315430e-02]\n",
      " [-2.86357862e-02]\n",
      " [-1.41180875e-02]\n",
      " [ 2.21552939e-04]\n",
      " [ 1.43831352e-02]\n",
      " [ 2.83666594e-02]\n",
      " [ 4.21721253e-02]\n",
      " [ 5.57995330e-02]\n",
      " [ 6.92488826e-02]\n",
      " [ 8.25201740e-02]\n",
      " [ 9.56134072e-02]\n",
      " [ 1.08528582e-01]\n",
      " [ 1.21265699e-01]\n",
      " [ 1.33824758e-01]\n",
      " [ 1.46205758e-01]\n",
      " [ 1.58408701e-01]\n",
      " [ 1.70433585e-01]\n",
      " [ 1.82280411e-01]\n",
      " [ 1.93949178e-01]\n",
      " [ 2.05439888e-01]\n",
      " [ 2.16752539e-01]\n",
      " [ 2.27887132e-01]\n",
      " [ 2.38843668e-01]\n",
      " [ 2.49622144e-01]\n",
      " [ 2.60222563e-01]\n",
      " [ 2.70644923e-01]\n",
      " [ 2.80889226e-01]\n",
      " [ 2.90955470e-01]\n",
      " [ 3.00843656e-01]\n",
      " [ 3.10553784e-01]\n",
      " [ 3.20085853e-01]\n",
      " [ 3.29439865e-01]\n",
      " [ 3.38615818e-01]\n",
      " [ 3.47613713e-01]\n",
      " [ 3.56433550e-01]\n",
      " [ 3.65075328e-01]\n",
      " [ 3.73539049e-01]\n",
      " [ 3.81824711e-01]\n",
      " [ 3.89932315e-01]\n",
      " [ 3.97861861e-01]\n",
      " [ 4.05613349e-01]\n",
      " [ 4.13186779e-01]\n",
      " [ 4.20582150e-01]\n",
      " [ 4.27799463e-01]\n",
      " [ 4.34838718e-01]\n",
      " [ 4.41699915e-01]\n",
      " [ 4.48383054e-01]\n",
      " [ 4.54888134e-01]\n",
      " [ 4.61215156e-01]\n",
      " [ 4.67364121e-01]\n",
      " [ 4.73335027e-01]\n",
      " [ 4.79127874e-01]\n",
      " [ 4.84742664e-01]\n",
      " [ 4.90179395e-01]\n",
      " [ 4.95438068e-01]\n",
      " [ 5.00518683e-01]\n",
      " [ 5.05421240e-01]\n",
      " [ 5.10145739e-01]\n",
      " [ 5.14692179e-01]\n",
      " [ 5.19060562e-01]\n",
      " [ 5.23250886e-01]\n",
      " [ 5.27263152e-01]\n",
      " [ 5.31097360e-01]\n",
      " [ 5.34753509e-01]\n",
      " [ 5.38231601e-01]\n",
      " [ 5.41531634e-01]\n",
      " [ 5.44653609e-01]\n",
      " [ 5.47597526e-01]\n",
      " [ 5.50363384e-01]\n",
      " [ 5.52951185e-01]\n",
      " [ 5.55360927e-01]\n",
      " [ 5.57592611e-01]\n",
      " [ 5.59646237e-01]\n",
      " [ 5.61521805e-01]\n",
      " [ 5.63219315e-01]\n",
      " [ 5.64738766e-01]\n",
      " [ 5.66080159e-01]\n",
      " [ 5.67243494e-01]\n",
      " [ 5.68228771e-01]\n",
      " [ 5.69035990e-01]\n",
      " [ 5.69665150e-01]\n",
      " [ 5.70116253e-01]\n",
      " [ 5.70389297e-01]\n",
      " [ 5.70484283e-01]\n",
      " [ 5.70401210e-01]\n",
      " [ 5.70140080e-01]\n",
      " [ 5.69700891e-01]\n",
      " [ 5.69083645e-01]\n",
      " [ 5.68288340e-01]\n",
      " [ 5.67314977e-01]\n",
      " [ 5.66163555e-01]\n",
      " [ 5.64834076e-01]\n",
      " [ 5.63326538e-01]\n",
      " [ 5.61640942e-01]\n",
      " [ 5.59777288e-01]\n",
      " [ 5.57735576e-01]\n",
      " [ 5.55515805e-01]\n",
      " [ 5.53117977e-01]\n",
      " [ 5.50542090e-01]\n",
      " [ 5.47788145e-01]\n",
      " [ 5.44856142e-01]\n",
      " [ 5.41746081e-01]\n",
      " [ 5.38457961e-01]\n",
      " [ 5.34991783e-01]\n",
      " [ 5.31347548e-01]\n",
      " [ 5.27525254e-01]\n",
      " [ 5.23524901e-01]\n",
      " [ 5.19346491e-01]\n",
      " [ 5.14990022e-01]\n",
      " [ 5.10455495e-01]\n",
      " [ 5.05742911e-01]\n",
      " [ 5.00852267e-01]\n",
      " [ 4.95783566e-01]\n",
      " [ 4.90536807e-01]\n",
      " [ 4.85111989e-01]\n",
      " [ 4.79509113e-01]\n",
      " [ 4.73728179e-01]\n",
      " [ 4.67769187e-01]\n",
      " [ 4.61632136e-01]\n",
      " [ 4.55317028e-01]\n",
      " [ 4.48823861e-01]\n",
      " [ 4.42152636e-01]\n",
      " [ 4.35303353e-01]\n",
      " [ 4.28276012e-01]\n",
      " [ 4.21070612e-01]\n",
      " [ 4.13687154e-01]\n",
      " [ 4.06125639e-01]\n",
      " [ 3.98386064e-01]\n",
      " [ 3.90468432e-01]\n",
      " [ 3.82372742e-01]\n",
      " [ 3.74098993e-01]\n",
      " [ 3.65647186e-01]\n",
      " [ 3.57017321e-01]\n",
      " [ 3.48209398e-01]\n",
      " [ 3.39223417e-01]\n",
      " [ 3.30059378e-01]\n",
      " [ 3.20717280e-01]\n",
      " [ 3.11197124e-01]\n",
      " [ 3.01498910e-01]\n",
      " [ 2.91622638e-01]\n",
      " [ 2.81568307e-01]\n",
      " [ 2.71335919e-01]\n",
      " [ 2.60925472e-01]\n",
      " [ 2.50336967e-01]\n",
      " [ 2.39570404e-01]\n",
      " [ 2.28625783e-01]\n",
      " [ 2.17503103e-01]\n",
      " [ 2.06202365e-01]\n",
      " [ 1.94723570e-01]\n",
      " [ 1.83066715e-01]\n",
      " [ 1.71231803e-01]\n",
      " [ 1.59218833e-01]\n",
      " [ 1.47027804e-01]\n",
      " [ 1.34658718e-01]\n",
      " [ 1.22111573e-01]\n",
      " [ 1.09386369e-01]\n",
      " [ 9.64831081e-02]\n",
      " [ 8.34017886e-02]\n",
      " [ 7.01424109e-02]\n",
      " [ 5.67049751e-02]\n",
      " [ 4.30894810e-02]\n",
      " [ 2.92959288e-02]\n",
      " [ 1.53243184e-02]\n",
      " [ 1.17464982e-03]\n",
      " [-1.31530769e-02]\n",
      " [-2.76588619e-02]\n",
      " [-4.23427050e-02]\n",
      " [-5.72046063e-02]\n",
      " [-7.22445658e-02]\n",
      " [-8.74625835e-02]\n",
      " [-1.02858659e-01]\n",
      " [-1.18432793e-01]\n",
      " [-1.34184986e-01]\n",
      " [-1.50115236e-01]\n",
      " [-1.66223545e-01]\n",
      " [-1.82509911e-01]\n",
      " [-1.98974336e-01]\n",
      " [-2.15616819e-01]\n",
      " [-2.32437361e-01]\n",
      " [-2.49435960e-01]\n",
      " [-2.66612618e-01]\n",
      " [-2.83967334e-01]\n",
      " [-3.01500108e-01]\n",
      " [-3.19210940e-01]\n",
      " [-3.37099830e-01]\n",
      " [-3.55166779e-01]\n",
      " [-3.73411786e-01]\n",
      " [-3.91834851e-01]\n",
      " [-4.10435974e-01]\n",
      " [-4.29215155e-01]\n",
      " [-4.48172395e-01]\n",
      " [-4.67307692e-01]]\n"
     ]
    }
   ],
   "source": [
    "n = len(x)\n",
    "X = np.hstack([x**k for k in range(3)])\n",
    "w2 = np.linalg.solve(np.dot(X.T,X), np.dot(X.T,y))\n",
    "print(w2)\n",
    "xx = np.linspace(-5.5, 5.5, 200).reshape((200,1))\n",
    "y2 = np.hstack((np.ones((200,1)), xx, xx**2)).dot(w2)\n",
    "print(y2)"
   ]
  },
  {
   "cell_type": "code",
   "execution_count": 11,
   "metadata": {},
   "outputs": [
    {
     "data": {
      "image/png": "[encoded data removed]",
      "text/plain": [
       "<Figure size 432x288 with 1 Axes>"
      ]
     },
     "metadata": {
      "needs_background": "light"
     },
     "output_type": "display_data"
    }
   ],
   "source": [
    "plt.plot(x, y, 'rx', markersize=7.5, label=\"data\")\n",
    "plt.plot(xx, y2, '-b', linewidth=3, label=\"deg. 2\")\n",
    "plt.axis(\"equal\")\n",
    "plt.legend(loc=\"lower right\")\n",
    "plt.xlim([-5.5, 5.5])\n",
    "plt.ylim([-2,2])\n",
    "plt.grid(True)\n",
    "plt.show()"
   ]
  },
  {
   "cell_type": "code",
   "execution_count": 13,
   "metadata": {},
   "outputs": [
    {
     "name": "stdout",
     "output_type": "stream",
     "text": [
      "[[ 0.75291375]\n",
      " [-0.39965035]\n",
      " [-0.09469697]\n",
      " [ 0.04778555]\n",
      " [ 0.00262238]\n",
      " [-0.00128205]]\n"
     ]
    },
    {
     "data": {
      "image/png": "[encoded data removed]",
      "text/plain": [
       "<Figure size 432x288 with 1 Axes>"
      ]
     },
     "metadata": {
      "needs_background": "light"
     },
     "output_type": "display_data"
    }
   ],
   "source": [
    "X = np.hstack([x**k for k in range(6)])\n",
    "w5 = np.linalg.solve(np.dot(X.T,X), np.dot(X.T,y))\n",
    "print(w5)\n",
    "y5 = np.hstack((np.ones((200,1)), xx, xx**2, xx**3, xx**4, xx**5)).dot(w5) #Evaluate on grid\n",
    "\n",
    "plt.plot(x, y, 'rx', markersize=7.5, label=\"data\")\n",
    "plt.plot(xx, y2, \"b.-\", linewidth=3, label=\"deg. 2\")\n",
    "plt.plot(xx, y5, \"m.-\", linewidth=3, label=\"deg. 5\")\n",
    "plt.axis(\"equal\")\n",
    "plt.legend(loc=\"lower right\")\n",
    "plt.xlim([-5.5, 5.5])\n",
    "plt.ylim([-2,2])\n",
    "plt.grid(True)\n",
    "plt.show()"
   ]
  },
  {
   "cell_type": "code",
   "execution_count": 18,
   "metadata": {},
   "outputs": [
    {
     "name": "stdout",
     "output_type": "stream",
     "text": [
      "[[ 7.79038299e-01]\n",
      " [-5.95238095e-01]\n",
      " [-9.23702544e-02]\n",
      " [ 9.73875661e-02]\n",
      " [-3.13252494e-03]\n",
      " [-1.90972222e-03]\n",
      " [ 6.14895081e-04]\n",
      " [-2.48015873e-04]\n",
      " [-1.56641604e-05]\n",
      " [ 8.26719577e-06]]\n"
     ]
    },
    {
     "data": {
      "image/png": "[encoded data removed]",
      "text/plain": [
       "<Figure size 432x288 with 1 Axes>"
      ]
     },
     "metadata": {
      "needs_background": "light"
     },
     "output_type": "display_data"
    }
   ],
   "source": [
    "X = np.hstack([x**k for k in range(10)])\n",
    "w9 = np.linalg.solve(np.dot(X.T, X), np.dot(X.T, y))\n",
    "print(w9)\n",
    "y9 = np.hstack((np.ones((200,1)), xx, xx**2, xx**3, xx**4, xx**5, xx**6, xx**7, xx**8, xx**9)).dot(w9) #Evaluate on grid\n",
    "\n",
    "plt.plot(x, y, \"rx\", markersize=7.5, label=\"data\")\n",
    "plt.plot(xx, y2, \"b-\", linewidth=3, label= \"deg. 2\")\n",
    "plt.plot(xx, y5, \"m.-\", linewidth=3, label= \"deg. 5\")\n",
    "plt.plot(xx, y9, \"k--\", linewidth=3, label= \"deg. 9\")\n",
    "plt.axis(\"equal\")\n",
    "plt.legend(loc=\"lower right\")\n",
    "plt.xlim([-5.5,5.5])\n",
    "plt.ylim([-2,2])\n",
    "plt.grid(True)\n",
    "plt.show()"
   ]
  },
  {
   "cell_type": "code",
   "execution_count": 19,
   "metadata": {},
   "outputs": [
    {
     "name": "stdout",
     "output_type": "stream",
     "text": [
      "[ 0.56410256 -0.02727273 -0.02913753] [-0.02913753 -0.02727273  0.56410256]\n"
     ]
    }
   ],
   "source": [
    "w2_polyfit = np.polyfit(x.squeeze(), y.squeeze(), 2) # Find coefficients of degree 2 polynomial regression\n",
    "print(w2.squeeze(), w2_polyfit) # same coefficients, reverse order\n",
    "y2 = np.polyval(xx, w2_polyfit)"
   ]
  },
  {
   "cell_type": "code",
   "execution_count": null,
   "metadata": {},
   "outputs": [],
   "source": []
  }
 ],
 "metadata": {
  "kernelspec": {
   "display_name": "Python 3",
   "language": "python",
   "name": "python3"
  },
  "language_info": {
   "codemirror_mode": {
    "name": "ipython",
    "version": 3
   },
   "file_extension": ".py",
   "mimetype": "text/x-python",
   "name": "python",
   "nbconvert_exporter": "python",
   "pygments_lexer": "ipython3",
   "version": "3.7.2"
  }
 },
 "nbformat": 4,
 "nbformat_minor": 2
}
